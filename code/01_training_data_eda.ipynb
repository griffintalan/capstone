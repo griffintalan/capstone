{
 "cells": [
  {
   "cell_type": "markdown",
   "metadata": {},
   "source": [
    "# Training Data EDA"
   ]
  },
  {
   "cell_type": "code",
   "execution_count": 1,
   "metadata": {},
   "outputs": [],
   "source": [
    "import pandas as pd\n",
    "import numpy as np\n",
    "import matplotlib.pyplot as plt\n",
    "import seaborn as sns\n",
    "import _pickle\n",
    "import os\n",
    "import glob"
   ]
  },
  {
   "cell_type": "markdown",
   "metadata": {},
   "source": [
    "## Sentiment"
   ]
  },
  {
   "cell_type": "markdown",
   "metadata": {},
   "source": [
    "***BBC1000***"
   ]
  },
  {
   "cell_type": "code",
   "execution_count": 2,
   "metadata": {},
   "outputs": [
    {
     "data": {
      "text/html": [
       "<div>\n",
       "<style scoped>\n",
       "    .dataframe tbody tr th:only-of-type {\n",
       "        vertical-align: middle;\n",
       "    }\n",
       "\n",
       "    .dataframe tbody tr th {\n",
       "        vertical-align: top;\n",
       "    }\n",
       "\n",
       "    .dataframe thead th {\n",
       "        text-align: right;\n",
       "    }\n",
       "</style>\n",
       "<table border=\"1\" class=\"dataframe\">\n",
       "  <thead>\n",
       "    <tr style=\"text-align: right;\">\n",
       "      <th></th>\n",
       "      <th>mean pos</th>\n",
       "      <th>mean neg</th>\n",
       "      <th>Comment (All)</th>\n",
       "    </tr>\n",
       "  </thead>\n",
       "  <tbody>\n",
       "    <tr>\n",
       "      <th>0</th>\n",
       "      <td>1</td>\n",
       "      <td>3</td>\n",
       "      <td>Where were the suicide pilots from? Where is B...</td>\n",
       "    </tr>\n",
       "    <tr>\n",
       "      <th>1</th>\n",
       "      <td>1</td>\n",
       "      <td>3</td>\n",
       "      <td>Smoker - Mainland Britain consists of England,...</td>\n",
       "    </tr>\n",
       "  </tbody>\n",
       "</table>\n",
       "</div>"
      ],
      "text/plain": [
       "   mean pos  mean neg                                      Comment (All)\n",
       "0         1         3  Where were the suicide pilots from? Where is B...\n",
       "1         1         3  Smoker - Mainland Britain consists of England,..."
      ]
     },
     "execution_count": 2,
     "metadata": {},
     "output_type": "execute_result"
    }
   ],
   "source": [
    "# importing and creating label for bbc sentiment dataset - not used in analysis\n",
    "\n",
    "bbc1000 = pd.read_csv('../data/train_data/sentiment/6_human_coded_datasets_good/bbc1000.txt', delimiter = '\\t')\n",
    "bbc1000.head(2)"
   ]
  },
  {
   "cell_type": "code",
   "execution_count": 3,
   "metadata": {},
   "outputs": [],
   "source": [
    "bbc1000['score'] = bbc1000['mean pos'] - bbc1000['mean neg']"
   ]
  },
  {
   "cell_type": "code",
   "execution_count": 4,
   "metadata": {},
   "outputs": [
    {
     "data": {
      "image/png": "[encoded data removed]",
      "text/plain": [
       "<Figure size 432x288 with 1 Axes>"
      ]
     },
     "metadata": {
      "needs_background": "light"
     },
     "output_type": "display_data"
    }
   ],
   "source": [
    "# checking label distribution\n",
    "\n",
    "sns.distplot(bbc1000['score'])\n",
    "plt.title('Score Frequency')\n",
    "plt.xlabel('Score')\n",
    "plt.ylabel('Frequency');"
   ]
  },
  {
   "cell_type": "code",
   "execution_count": 5,
   "metadata": {},
   "outputs": [],
   "source": [
    "# selecting relevant columns and exporting \n",
    "\n",
    "bbc_formatted = bbc1000[['Comment (All)', 'score']]"
   ]
  },
  {
   "cell_type": "code",
   "execution_count": 6,
   "metadata": {},
   "outputs": [],
   "source": [
    "bbc_formatted.to_csv('../data/train_data/sentiment/6_human_coded_datasets_good/bbc_formatted.csv', index = False)"
   ]
  },
  {
   "cell_type": "markdown",
   "metadata": {},
   "source": [
    "***Labeled News Articles***"
   ]
  },
  {
   "cell_type": "code",
   "execution_count": 7,
   "metadata": {},
   "outputs": [
    {
     "data": {
      "text/html": [
       "<div>\n",
       "<style scoped>\n",
       "    .dataframe tbody tr th:only-of-type {\n",
       "        vertical-align: middle;\n",
       "    }\n",
       "\n",
       "    .dataframe tbody tr th {\n",
       "        vertical-align: top;\n",
       "    }\n",
       "\n",
       "    .dataframe thead th {\n",
       "        text-align: right;\n",
       "    }\n",
       "</style>\n",
       "<table border=\"1\" class=\"dataframe\">\n",
       "  <thead>\n",
       "    <tr style=\"text-align: right;\">\n",
       "      <th></th>\n",
       "      <th>article_id</th>\n",
       "      <th>user_id</th>\n",
       "      <th>overall sentiment in %</th>\n",
       "      <th>urls</th>\n",
       "    </tr>\n",
       "  </thead>\n",
       "  <tbody>\n",
       "    <tr>\n",
       "      <th>0</th>\n",
       "      <td>2</td>\n",
       "      <td>1</td>\n",
       "      <td>100.0</td>\n",
       "      <td>http://rightwingnews.com/hillary-clinton-2/bre...</td>\n",
       "    </tr>\n",
       "    <tr>\n",
       "      <th>1</th>\n",
       "      <td>2</td>\n",
       "      <td>2</td>\n",
       "      <td>80.0</td>\n",
       "      <td>http://rightwingnews.com/hillary-clinton-2/bre...</td>\n",
       "    </tr>\n",
       "    <tr>\n",
       "      <th>2</th>\n",
       "      <td>2</td>\n",
       "      <td>3</td>\n",
       "      <td>57.0</td>\n",
       "      <td>http://rightwingnews.com/hillary-clinton-2/bre...</td>\n",
       "    </tr>\n",
       "  </tbody>\n",
       "</table>\n",
       "</div>"
      ],
      "text/plain": [
       "   article_id  user_id  overall sentiment in %  \\\n",
       "0           2        1                   100.0   \n",
       "1           2        2                    80.0   \n",
       "2           2        3                    57.0   \n",
       "\n",
       "                                                urls  \n",
       "0  http://rightwingnews.com/hillary-clinton-2/bre...  \n",
       "1  http://rightwingnews.com/hillary-clinton-2/bre...  \n",
       "2  http://rightwingnews.com/hillary-clinton-2/bre...  "
      ]
     },
     "execution_count": 7,
     "metadata": {},
     "output_type": "execute_result"
    }
   ],
   "source": [
    "# importing labelled news articles - not used in analysis\n",
    "\n",
    "news_raw = pd.read_csv('../data/train_data/sentiment/news_articles/news_sentiment_urls.txt', delimiter = ';')\n",
    "news_raw.head(3)"
   ]
  },
  {
   "cell_type": "code",
   "execution_count": 8,
   "metadata": {},
   "outputs": [
    {
     "data": {
      "text/html": [
       "<div>\n",
       "<style scoped>\n",
       "    .dataframe tbody tr th:only-of-type {\n",
       "        vertical-align: middle;\n",
       "    }\n",
       "\n",
       "    .dataframe tbody tr th {\n",
       "        vertical-align: top;\n",
       "    }\n",
       "\n",
       "    .dataframe thead th {\n",
       "        text-align: right;\n",
       "    }\n",
       "</style>\n",
       "<table border=\"1\" class=\"dataframe\">\n",
       "  <thead>\n",
       "    <tr style=\"text-align: right;\">\n",
       "      <th></th>\n",
       "      <th></th>\n",
       "    </tr>\n",
       "    <tr>\n",
       "      <th>article_id</th>\n",
       "      <th>urls</th>\n",
       "    </tr>\n",
       "  </thead>\n",
       "  <tbody>\n",
       "    <tr>\n",
       "      <th>2</th>\n",
       "      <th>http://rightwingnews.com/hillary-clinton-2/breaking-steps-force-fbi-director-comey-resign-process-hearing-decides-fate-sept-28/</th>\n",
       "    </tr>\n",
       "    <tr>\n",
       "      <th>3</th>\n",
       "      <th>http://politi.co/2cKqILg</th>\n",
       "    </tr>\n",
       "    <tr>\n",
       "      <th>4</th>\n",
       "      <th>http://rightwingnews.com/top-news/charlotte-police-reveal-said-black-man-just-moments-shooting/</th>\n",
       "    </tr>\n",
       "    <tr>\n",
       "      <th>5</th>\n",
       "      <th>http://politi.co/2d1xPwp</th>\n",
       "    </tr>\n",
       "    <tr>\n",
       "      <th>6</th>\n",
       "      <th>http://politi.co/2d2EDuM</th>\n",
       "    </tr>\n",
       "    <tr>\n",
       "      <th>7</th>\n",
       "      <th>http://conservativetribune.com/lester-holt-lies-during-debate/?utm_source=Facebook&amp;utm_medium=RightWingNews&amp;utm_content=2016-09-27&amp;utm_campaign=manualpost</th>\n",
       "    </tr>\n",
       "    <tr>\n",
       "      <th>8</th>\n",
       "      <th>http://occupydemocrats.com/2016/09/23/just-newsweek-accuses-trump-committing-felony/</th>\n",
       "    </tr>\n",
       "    <tr>\n",
       "      <th>9</th>\n",
       "      <th>http://occupydemocrats.com/2016/09/28/trump-said-not-paying-taxes-makes-smart-mark-cubans-response-powerful/</th>\n",
       "    </tr>\n",
       "    <tr>\n",
       "      <th>10</th>\n",
       "      <th>http://viraldevil.com/police-find-19-white-female-bodies-in-freezers-with-black-lives-matter-carved-into-skin/</th>\n",
       "    </tr>\n",
       "    <tr>\n",
       "      <th>11</th>\n",
       "      <th>http://cnn.it/2dl3hpQ</th>\n",
       "    </tr>\n",
       "    <tr>\n",
       "      <th>12</th>\n",
       "      <th>http://www.addictinginfo.org/2016/09/22/republicans-push-bill-to-legalize-voter-intimidation-to-help-trump-in-pennsylvania/</th>\n",
       "    </tr>\n",
       "    <tr>\n",
       "      <th>13</th>\n",
       "      <th>http://politi.co/2dd2Ajf</th>\n",
       "    </tr>\n",
       "    <tr>\n",
       "      <th>14</th>\n",
       "      <th>http://www.floridasunpost.com/tampa-man-loses-testicles-trying-fill-scuba-tank-weed-smoke/</th>\n",
       "    </tr>\n",
       "    <tr>\n",
       "      <th>15</th>\n",
       "      <th>http://cnn.it/2cQyS4N</th>\n",
       "    </tr>\n",
       "    <tr>\n",
       "      <th>16</th>\n",
       "      <th>http://occupydemocrats.com/2016/09/20/just-new-york-times-will-finally-start-calling-trump-liar/</th>\n",
       "    </tr>\n",
       "    <tr>\n",
       "      <th>17</th>\n",
       "      <th>http://newsfeedhunter.com/the-dea-just-raided-a-united-states-senator-dems-in-a-panic/</th>\n",
       "    </tr>\n",
       "    <tr>\n",
       "      <th>18</th>\n",
       "      <th>http://occupydemocrats.com/2016/09/22/unhinged-trump-campaign-chair-says-racism-didnt-exist-obama-viral-rant-2/</th>\n",
       "    </tr>\n",
       "    <tr>\n",
       "      <th>19</th>\n",
       "      <th>http://abcn.ws/2cMLIxB</th>\n",
       "    </tr>\n",
       "    <tr>\n",
       "      <th>20</th>\n",
       "      <th>http://www.cnn.com/2016/09/19/politics/trump-clinton-egypt-fattah-el-sisi/index.html</th>\n",
       "    </tr>\n",
       "    <tr>\n",
       "      <th>21</th>\n",
       "      <th>http://freedomdaily.com/la-police-commission-officers-armed-suspects/</th>\n",
       "    </tr>\n",
       "  </tbody>\n",
       "</table>\n",
       "</div>"
      ],
      "text/plain": [
       "Empty DataFrame\n",
       "Columns: []\n",
       "Index: [(2, http://rightwingnews.com/hillary-clinton-2/breaking-steps-force-fbi-director-comey-resign-process-hearing-decides-fate-sept-28/), (3, http://politi.co/2cKqILg), (4, http://rightwingnews.com/top-news/charlotte-police-reveal-said-black-man-just-moments-shooting/), (5, http://politi.co/2d1xPwp), (6, http://politi.co/2d2EDuM), (7, http://conservativetribune.com/lester-holt-lies-during-debate/?utm_source=Facebook&utm_medium=RightWingNews&utm_content=2016-09-27&utm_campaign=manualpost), (8, http://occupydemocrats.com/2016/09/23/just-newsweek-accuses-trump-committing-felony/), (9, http://occupydemocrats.com/2016/09/28/trump-said-not-paying-taxes-makes-smart-mark-cubans-response-powerful/), (10, http://viraldevil.com/police-find-19-white-female-bodies-in-freezers-with-black-lives-matter-carved-into-skin/), (11, http://cnn.it/2dl3hpQ), (12, http://www.addictinginfo.org/2016/09/22/republicans-push-bill-to-legalize-voter-intimidation-to-help-trump-in-pennsylvania/), (13, http://politi.co/2dd2Ajf), (14, http://www.floridasunpost.com/tampa-man-loses-testicles-trying-fill-scuba-tank-weed-smoke/), (15, http://cnn.it/2cQyS4N), (16, http://occupydemocrats.com/2016/09/20/just-new-york-times-will-finally-start-calling-trump-liar/), (17, http://newsfeedhunter.com/the-dea-just-raided-a-united-states-senator-dems-in-a-panic/), (18, http://occupydemocrats.com/2016/09/22/unhinged-trump-campaign-chair-says-racism-didnt-exist-obama-viral-rant-2/), (19, http://abcn.ws/2cMLIxB), (20, http://www.cnn.com/2016/09/19/politics/trump-clinton-egypt-fattah-el-sisi/index.html), (21, http://freedomdaily.com/la-police-commission-officers-armed-suspects/)]"
      ]
     },
     "execution_count": 8,
     "metadata": {},
     "output_type": "execute_result"
    }
   ],
   "source": [
    "news_raw[['article_id', 'urls']].groupby(['article_id', 'urls']).sum()[:20]"
   ]
  },
  {
   "cell_type": "code",
   "execution_count": 9,
   "metadata": {},
   "outputs": [],
   "source": [
    "# I manually copied and pasted 50 texts from these URL's into txt documents\n",
    "# and decided the data was not very good during model building \n",
    "# did not grab other ~200 articles\n",
    "\n",
    "texts = []\n",
    "\n",
    "path = '../data/train_data/sentiment/news_articles/articles/'\n",
    "i=1\n",
    "for filename in glob.glob(os.path.join(path, '*.txt')):\n",
    "   with open(filename, 'r', encoding='utf-8') as f:\n",
    "    texts.append([filename[52:-4], f.read()])"
   ]
  },
  {
   "cell_type": "code",
   "execution_count": 10,
   "metadata": {},
   "outputs": [],
   "source": [
    "# formatting text data\n",
    "\n",
    "texts = pd.DataFrame(texts)"
   ]
  },
  {
   "cell_type": "code",
   "execution_count": 11,
   "metadata": {},
   "outputs": [],
   "source": [
    "texts[0] = texts[0].astype(int)"
   ]
  },
  {
   "cell_type": "code",
   "execution_count": 12,
   "metadata": {},
   "outputs": [],
   "source": [
    "texts = texts.sort_values(0)[:49].reset_index().drop(columns = 'index')"
   ]
  },
  {
   "cell_type": "code",
   "execution_count": 13,
   "metadata": {},
   "outputs": [],
   "source": [
    "texts.rename(columns = {0 : 'id', 1 : 'text'}, inplace = True)"
   ]
  },
  {
   "cell_type": "code",
   "execution_count": 14,
   "metadata": {},
   "outputs": [],
   "source": [
    "texts['text'] = texts['text'].replace('N/A', np.nan)"
   ]
  },
  {
   "cell_type": "code",
   "execution_count": 15,
   "metadata": {},
   "outputs": [],
   "source": [
    "texts.dropna(inplace = True)"
   ]
  },
  {
   "cell_type": "code",
   "execution_count": 16,
   "metadata": {},
   "outputs": [
    {
     "data": {
      "text/html": [
       "<div>\n",
       "<style scoped>\n",
       "    .dataframe tbody tr th:only-of-type {\n",
       "        vertical-align: middle;\n",
       "    }\n",
       "\n",
       "    .dataframe tbody tr th {\n",
       "        vertical-align: top;\n",
       "    }\n",
       "\n",
       "    .dataframe thead th {\n",
       "        text-align: right;\n",
       "    }\n",
       "</style>\n",
       "<table border=\"1\" class=\"dataframe\">\n",
       "  <thead>\n",
       "    <tr style=\"text-align: right;\">\n",
       "      <th></th>\n",
       "      <th>id</th>\n",
       "      <th>text</th>\n",
       "    </tr>\n",
       "  </thead>\n",
       "  <tbody>\n",
       "    <tr>\n",
       "      <th>0</th>\n",
       "      <td>2</td>\n",
       "      <td>The FBI investigation of the Hillary Clinton e...</td>\n",
       "    </tr>\n",
       "    <tr>\n",
       "      <th>1</th>\n",
       "      <td>3</td>\n",
       "      <td>At least 858 people who had previously been or...</td>\n",
       "    </tr>\n",
       "  </tbody>\n",
       "</table>\n",
       "</div>"
      ],
      "text/plain": [
       "   id                                               text\n",
       "0   2  The FBI investigation of the Hillary Clinton e...\n",
       "1   3  At least 858 people who had previously been or..."
      ]
     },
     "execution_count": 16,
     "metadata": {},
     "output_type": "execute_result"
    }
   ],
   "source": [
    "texts.head(2)"
   ]
  },
  {
   "cell_type": "code",
   "execution_count": 17,
   "metadata": {},
   "outputs": [],
   "source": [
    "# merging texts with original dataframe\n",
    "\n",
    "news = news_raw.merge(texts, left_on = 'article_id', right_on = 'id')"
   ]
  },
  {
   "cell_type": "code",
   "execution_count": 18,
   "metadata": {
    "scrolled": true
   },
   "outputs": [],
   "source": [
    "# getting average user score by article and appending to df\n",
    "\n",
    "keys_news = pd.Series(news.groupby('text')['overall sentiment in %'].agg('mean').keys())\n",
    "values_news = pd.Series(news.groupby('text')['overall sentiment in %'].agg('mean').values)"
   ]
  },
  {
   "cell_type": "code",
   "execution_count": 19,
   "metadata": {},
   "outputs": [],
   "source": [
    "average_scores = pd.concat([keys_news, values_news], axis = 1).rename(columns = {0 : 'average'})"
   ]
  },
  {
   "cell_type": "code",
   "execution_count": 20,
   "metadata": {},
   "outputs": [],
   "source": [
    "news_formatted = news.merge(average_scores, on = 'text')[['text', 'average']].drop_duplicates()"
   ]
  },
  {
   "cell_type": "code",
   "execution_count": 21,
   "metadata": {},
   "outputs": [
    {
     "data": {
      "text/html": [
       "<div>\n",
       "<style scoped>\n",
       "    .dataframe tbody tr th:only-of-type {\n",
       "        vertical-align: middle;\n",
       "    }\n",
       "\n",
       "    .dataframe tbody tr th {\n",
       "        vertical-align: top;\n",
       "    }\n",
       "\n",
       "    .dataframe thead th {\n",
       "        text-align: right;\n",
       "    }\n",
       "</style>\n",
       "<table border=\"1\" class=\"dataframe\">\n",
       "  <thead>\n",
       "    <tr style=\"text-align: right;\">\n",
       "      <th></th>\n",
       "      <th>text</th>\n",
       "      <th>average</th>\n",
       "    </tr>\n",
       "  </thead>\n",
       "  <tbody>\n",
       "    <tr>\n",
       "      <th>0</th>\n",
       "      <td>The FBI investigation of the Hillary Clinton e...</td>\n",
       "      <td>70.000000</td>\n",
       "    </tr>\n",
       "    <tr>\n",
       "      <th>20</th>\n",
       "      <td>At least 858 people who had previously been or...</td>\n",
       "      <td>17.578947</td>\n",
       "    </tr>\n",
       "  </tbody>\n",
       "</table>\n",
       "</div>"
      ],
      "text/plain": [
       "                                                 text    average\n",
       "0   The FBI investigation of the Hillary Clinton e...  70.000000\n",
       "20  At least 858 people who had previously been or...  17.578947"
      ]
     },
     "execution_count": 21,
     "metadata": {},
     "output_type": "execute_result"
    }
   ],
   "source": [
    "news_formatted.head(2)"
   ]
  },
  {
   "cell_type": "code",
   "execution_count": 22,
   "metadata": {
    "scrolled": true
   },
   "outputs": [
    {
     "data": {
      "image/png": "[encoded data removed]",
      "text/plain": [
       "<Figure size 432x288 with 1 Axes>"
      ]
     },
     "metadata": {
      "needs_background": "light"
     },
     "output_type": "display_data"
    }
   ],
   "source": [
    "# seeing if there is a relationship between text length and score\n",
    "\n",
    "plt.scatter([len(x) for x in news_formatted['text']], news_formatted['average'])\n",
    "plt.xlabel('Phrase Length')\n",
    "plt.ylabel('Average User Score')\n",
    "plt.title('Phrase Length vs Average Reviewer Score')\n",
    "plt.tight_layout();"
   ]
  },
  {
   "cell_type": "code",
   "execution_count": 23,
   "metadata": {},
   "outputs": [],
   "source": [
    "# exporting formatted data\n",
    "\n",
    "news_formatted.to_csv('../data/train_data/sentiment/news_articles/news_formatted.csv', index = False)"
   ]
  },
  {
   "cell_type": "markdown",
   "metadata": {},
   "source": [
    "***IMDB***"
   ]
  },
  {
   "cell_type": "code",
   "execution_count": 24,
   "metadata": {},
   "outputs": [],
   "source": [
    "# importing IMDB reviews - each review is individual file - not used in analysis\n",
    "\n",
    "pos_reviews = []\n",
    "\n",
    "path_pos = '../data/train_data/sentiment/IMDB_good/pos/'\n",
    "for filename in glob.glob(os.path.join(path_pos, '*.txt')):\n",
    "   with open(filename, 'r') as f:\n",
    "    pos_reviews.append(f.read())"
   ]
  },
  {
   "cell_type": "code",
   "execution_count": 25,
   "metadata": {},
   "outputs": [
    {
     "data": {
      "text/plain": [
       "1000"
      ]
     },
     "execution_count": 25,
     "metadata": {},
     "output_type": "execute_result"
    }
   ],
   "source": [
    "len(pos_reviews)"
   ]
  },
  {
   "cell_type": "code",
   "execution_count": 26,
   "metadata": {},
   "outputs": [],
   "source": [
    "neg_reviews = []\n",
    "\n",
    "path_neg = '../data/train_data/sentiment/IMDB_good/neg/'\n",
    "for filename in glob.glob(os.path.join(path_neg, '*.txt')):\n",
    "   with open(filename, 'r') as f:\n",
    "    neg_reviews.append(f.read())"
   ]
  },
  {
   "cell_type": "code",
   "execution_count": 27,
   "metadata": {},
   "outputs": [
    {
     "data": {
      "text/plain": [
       "1000"
      ]
     },
     "execution_count": 27,
     "metadata": {},
     "output_type": "execute_result"
    }
   ],
   "source": [
    "len(neg_reviews)"
   ]
  },
  {
   "cell_type": "code",
   "execution_count": 28,
   "metadata": {},
   "outputs": [],
   "source": [
    "# renaming review columns and merging pos/neg reviews to one df, creating is_positive column\n",
    "\n",
    "pos_reviews = pd.DataFrame(pos_reviews).rename(columns = {0 : 'text'})\n",
    "neg_reviews = pd.DataFrame(neg_reviews).rename(columns = {0 : 'text'})"
   ]
  },
  {
   "cell_type": "code",
   "execution_count": 29,
   "metadata": {},
   "outputs": [],
   "source": [
    "pos_reviews['is_positive'] = [1]*len(pos_reviews['text'])\n",
    "neg_reviews['is_positive'] = [0]*len(neg_reviews['text'])"
   ]
  },
  {
   "cell_type": "code",
   "execution_count": 30,
   "metadata": {},
   "outputs": [],
   "source": [
    "pos_neg_reviews = pd.concat([pos_reviews, neg_reviews])"
   ]
  },
  {
   "cell_type": "code",
   "execution_count": 31,
   "metadata": {},
   "outputs": [
    {
     "data": {
      "text/html": [
       "<div>\n",
       "<style scoped>\n",
       "    .dataframe tbody tr th:only-of-type {\n",
       "        vertical-align: middle;\n",
       "    }\n",
       "\n",
       "    .dataframe tbody tr th {\n",
       "        vertical-align: top;\n",
       "    }\n",
       "\n",
       "    .dataframe thead th {\n",
       "        text-align: right;\n",
       "    }\n",
       "</style>\n",
       "<table border=\"1\" class=\"dataframe\">\n",
       "  <thead>\n",
       "    <tr style=\"text-align: right;\">\n",
       "      <th></th>\n",
       "      <th>text</th>\n",
       "      <th>is_positive</th>\n",
       "    </tr>\n",
       "  </thead>\n",
       "  <tbody>\n",
       "    <tr>\n",
       "      <th>0</th>\n",
       "      <td>films adapted from comic books have had plenty...</td>\n",
       "      <td>1</td>\n",
       "    </tr>\n",
       "    <tr>\n",
       "      <th>1</th>\n",
       "      <td>every now and then a movie comes along from a ...</td>\n",
       "      <td>1</td>\n",
       "    </tr>\n",
       "  </tbody>\n",
       "</table>\n",
       "</div>"
      ],
      "text/plain": [
       "                                                text  is_positive\n",
       "0  films adapted from comic books have had plenty...            1\n",
       "1  every now and then a movie comes along from a ...            1"
      ]
     },
     "execution_count": 31,
     "metadata": {},
     "output_type": "execute_result"
    }
   ],
   "source": [
    "pos_neg_reviews.head(2)"
   ]
  },
  {
   "cell_type": "code",
   "execution_count": 32,
   "metadata": {},
   "outputs": [
    {
     "data": {
      "image/png": "[encoded data removed]",
      "text/plain": [
       "<Figure size 432x288 with 1 Axes>"
      ]
     },
     "metadata": {
      "needs_background": "light"
     },
     "output_type": "display_data"
    }
   ],
   "source": [
    "sns.distplot([len(x) for x in pos_neg_reviews['text']])\n",
    "plt.title('Phrase Length Distribution')\n",
    "plt.xlabel('Phrase Length')\n",
    "plt.ylabel('Frequency');"
   ]
  },
  {
   "cell_type": "code",
   "execution_count": 33,
   "metadata": {},
   "outputs": [],
   "source": [
    "# exporting to csv\n",
    "\n",
    "pos_neg_reviews.to_csv('../data/train_data/sentiment/IMDB_good/imdb_formatted.csv', index = False)"
   ]
  },
  {
   "cell_type": "markdown",
   "metadata": {},
   "source": [
    "***UCI Combined***"
   ]
  },
  {
   "cell_type": "code",
   "execution_count": 34,
   "metadata": {},
   "outputs": [],
   "source": [
    "# importing/combining UCI labelled datasets - ARE using in analysis\n",
    "\n",
    "uci_amazon = pd.read_csv('../data/train_data/sentiment/UCI/amazon_cells_labelled.txt', delimiter = '\\t', header = None)\n",
    "uci_imdb = pd.read_csv('../data/train_data/sentiment/UCI/imdb_labelled.txt', delimiter = '\\t', header = None)\n",
    "uci_yelp = pd.read_csv('../data/train_data/sentiment/UCI/yelp_labelled.txt', delimiter = '\\t', header = None)"
   ]
  },
  {
   "cell_type": "code",
   "execution_count": 35,
   "metadata": {},
   "outputs": [
    {
     "data": {
      "text/html": [
       "<div>\n",
       "<style scoped>\n",
       "    .dataframe tbody tr th:only-of-type {\n",
       "        vertical-align: middle;\n",
       "    }\n",
       "\n",
       "    .dataframe tbody tr th {\n",
       "        vertical-align: top;\n",
       "    }\n",
       "\n",
       "    .dataframe thead th {\n",
       "        text-align: right;\n",
       "    }\n",
       "</style>\n",
       "<table border=\"1\" class=\"dataframe\">\n",
       "  <thead>\n",
       "    <tr style=\"text-align: right;\">\n",
       "      <th></th>\n",
       "      <th>text</th>\n",
       "      <th>is_positive</th>\n",
       "    </tr>\n",
       "  </thead>\n",
       "  <tbody>\n",
       "    <tr>\n",
       "      <th>0</th>\n",
       "      <td>So there is no way for me to plug it in here i...</td>\n",
       "      <td>0</td>\n",
       "    </tr>\n",
       "    <tr>\n",
       "      <th>1</th>\n",
       "      <td>Good case, Excellent value.</td>\n",
       "      <td>1</td>\n",
       "    </tr>\n",
       "    <tr>\n",
       "      <th>2</th>\n",
       "      <td>Great for the jawbone.</td>\n",
       "      <td>1</td>\n",
       "    </tr>\n",
       "  </tbody>\n",
       "</table>\n",
       "</div>"
      ],
      "text/plain": [
       "                                                text  is_positive\n",
       "0  So there is no way for me to plug it in here i...            0\n",
       "1                        Good case, Excellent value.            1\n",
       "2                             Great for the jawbone.            1"
      ]
     },
     "execution_count": 35,
     "metadata": {},
     "output_type": "execute_result"
    }
   ],
   "source": [
    "uci_combined = pd.concat([uci_amazon, uci_imdb, uci_yelp], axis = 0)\n",
    "uci_combined.rename(columns = {0 : 'text', 1 : 'is_positive'}, inplace = True)\n",
    "\n",
    "uci_combined.head(3)"
   ]
  },
  {
   "cell_type": "code",
   "execution_count": 36,
   "metadata": {},
   "outputs": [
    {
     "data": {
      "image/png": "[encoded data removed]",
      "text/plain": [
       "<Figure size 432x288 with 1 Axes>"
      ]
     },
     "metadata": {
      "needs_background": "light"
     },
     "output_type": "display_data"
    }
   ],
   "source": [
    "sns.distplot([len(x) for x in uci_combined['text'] if len(x) < 500])\n",
    "plt.xlabel('Phrase Length')\n",
    "plt.ylabel('Frequency')\n",
    "plt.title('Phrase Length Distribution')\n",
    "plt.tight_layout();"
   ]
  },
  {
   "cell_type": "code",
   "execution_count": 37,
   "metadata": {},
   "outputs": [
    {
     "data": {
      "text/plain": [
       "1    0.504367\n",
       "0    0.495633\n",
       "Name: is_positive, dtype: float64"
      ]
     },
     "execution_count": 37,
     "metadata": {},
     "output_type": "execute_result"
    }
   ],
   "source": [
    "uci_combined['is_positive'].value_counts(normalize = True)"
   ]
  },
  {
   "cell_type": "code",
   "execution_count": 38,
   "metadata": {},
   "outputs": [],
   "source": [
    "# Exporting to csv\n",
    "\n",
    "uci_combined.to_csv('../data/train_data/sentiment/UCI/uci_combined.csv', index = False)"
   ]
  },
  {
   "cell_type": "markdown",
   "metadata": {},
   "source": [
    "## Ideological - Not used in analysis"
   ]
  },
  {
   "cell_type": "code",
   "execution_count": 39,
   "metadata": {},
   "outputs": [],
   "source": [
    "# module provided by IBC data owner below - modified one print statement to fit python syntax\n",
    "\n",
    "import treeUtil"
   ]
  },
  {
   "cell_type": "code",
   "execution_count": 40,
   "metadata": {},
   "outputs": [
    {
     "name": "stdout",
     "output_type": "stream",
     "text": [
      "Liberal examples (out of 2025 sentences): \n",
      "Forcing middle-class workers to bear a greater share of the cost of government weakens their support for needed investments and stirs resentment toward those who depend on public services the most .\n",
      "\n",
      "Conservative examples (out of 1701 sentences): \n",
      "Gore is getting rich from environmentalism , not just by being paid a whopping $ 175,000 per speech but by using political pressure to force government policy in a direction that benefits his business interests .\n",
      "\n",
      "Neutral examples (out of 600 sentences): \n",
      "In this country , the beneficiaries of Apple 's success are , first , the designers , who have done wonders working with Steve Jobs to produce products that are beautiful and effective .\n",
      "\n",
      "Phrase labels for one tree: \n",
      "Liberal :  Forcing middle-class workers to bear a greater share of the cost of government weakens their support for needed investments and stirs resentment toward those who depend on public services the most .\n",
      "Liberal :  weakens their support for needed investments and stirs resentment toward those who depend on public services the most\n",
      "Liberal :  stirs resentment toward those who depend on public services the most\n"
     ]
    }
   ],
   "source": [
    "# This whole script was provided by dataset owner Mohit Iyyer\n",
    "\n",
    "\n",
    "[lib, con, neutral] = _pickle.load(open('../data/train_data/ideology/IBC/ibcData.pkl', 'rb'))\n",
    "\n",
    "print(f'Liberal examples (out of {len(lib)} sentences): ')\n",
    "for tree in lib[0:1]:\n",
    "    print(tree.get_words())\n",
    "\n",
    "print(f'\\nConservative examples (out of {len(con)} sentences): ')\n",
    "for tree in con[0:1]:\n",
    "    print(tree.get_words())\n",
    "\n",
    "print(f'\\nNeutral examples (out of {len(neutral)} sentences): ')\n",
    "for tree in neutral[0:1]:\n",
    "    print(tree.get_words())\n",
    "\n",
    "# how to access phrase labels for a particular tree\n",
    "ex_tree = lib[0]\n",
    "\n",
    "print('\\nPhrase labels for one tree: ')\n",
    "\n",
    "# see treeUtil.py for the tree class definition\n",
    "for node in ex_tree:\n",
    "\n",
    "    # remember, only certain nodes have labels (see paper for details)\n",
    "    if hasattr(node, 'label'):\n",
    "        print(node.label, ': ', node.get_words())"
   ]
  },
  {
   "cell_type": "code",
   "execution_count": 41,
   "metadata": {},
   "outputs": [],
   "source": [
    "# creating df's for each category and merging into single df\n",
    "\n",
    "liberal = []\n",
    "conservative = []\n",
    "neutral_phrases = []\n",
    "\n",
    "for phrase in lib:\n",
    "    liberal.append(phrase.get_words())\n",
    "    \n",
    "for phrase in con:\n",
    "    conservative.append(phrase.get_words())\n",
    "    \n",
    "for phrase in neutral:\n",
    "    neutral_phrases.append(phrase.get_words())    "
   ]
  },
  {
   "cell_type": "code",
   "execution_count": 42,
   "metadata": {},
   "outputs": [],
   "source": [
    "liberal = pd.DataFrame(liberal)\n",
    "liberal['is_liberal'] = [1]*len(liberal[0])\n",
    "liberal.rename(columns = {0 : 'text'}, inplace = True)\n",
    "\n",
    "conservative = pd.DataFrame(conservative)\n",
    "conservative['is_liberal'] = [-1]*len(conservative[0])\n",
    "conservative.rename(columns = {0 : 'text'}, inplace = True)\n",
    "\n",
    "neutral_phrases = pd.DataFrame(neutral_phrases)\n",
    "neutral_phrases['is_liberal'] = [0]*len(neutral_phrases[0])\n",
    "neutral_phrases.rename(columns = {0 : 'text'}, inplace = True)"
   ]
  },
  {
   "cell_type": "code",
   "execution_count": 43,
   "metadata": {},
   "outputs": [],
   "source": [
    "ideological = pd.concat([liberal, conservative, neutral_phrases], axis = 0)"
   ]
  },
  {
   "cell_type": "code",
   "execution_count": 44,
   "metadata": {},
   "outputs": [
    {
     "data": {
      "text/plain": [
       " 1    2025\n",
       "-1    1701\n",
       " 0     600\n",
       "Name: is_liberal, dtype: int64"
      ]
     },
     "execution_count": 44,
     "metadata": {},
     "output_type": "execute_result"
    }
   ],
   "source": [
    "ideological['is_liberal'].value_counts()"
   ]
  },
  {
   "cell_type": "code",
   "execution_count": 45,
   "metadata": {},
   "outputs": [],
   "source": [
    "# exporting to CSV\n",
    "\n",
    "ideological.to_csv('../data/train_data/ideology/IBC/ideological_formatted.csv', index = False)"
   ]
  },
  {
   "cell_type": "markdown",
   "metadata": {},
   "source": [
    "## Subjectivity Analysis"
   ]
  },
  {
   "cell_type": "code",
   "execution_count": 46,
   "metadata": {},
   "outputs": [],
   "source": [
    "# importing, renaming, labeling, and combining subj/obj datasets\n",
    "\n",
    "subjective = pd.read_csv('../data/train_data/subjectivity/subjective.txt', delimiter = '\\n', encoding = \"ISO-8859-1\", header = None) \n",
    "objective = pd.read_csv('../data/train_data/subjectivity/objective.txt', delimiter = '\\n', encoding = \"ISO-8859-1\", header = None) "
   ]
  },
  {
   "cell_type": "code",
   "execution_count": 47,
   "metadata": {},
   "outputs": [
    {
     "name": "stdout",
     "output_type": "stream",
     "text": [
      "                                                   0\n",
      "0  smart and alert , thirteen conversations about...\n",
      "1  color , musical bounce and warm seas lapping o...\n",
      "2  it is not a mass-market entertainment but an u...\n",
      "3  a light-hearted french film about the spiritua...\n",
      "4  my wife is an actress has its moments in looki...                                                    0\n",
      "0  the movie begins in the past where a young boy...\n",
      "1  emerging from the human psyche and showing cha...\n",
      "2  spurning her mother's insistence that she get ...\n",
      "3  amitabh can't believe the board of directors a...\n",
      "4  she , among others excentricities , talks to a...\n"
     ]
    }
   ],
   "source": [
    "print(subjective.head(), objective.head())"
   ]
  },
  {
   "cell_type": "code",
   "execution_count": 48,
   "metadata": {},
   "outputs": [],
   "source": [
    "subjective.rename(columns = {0 : 'text'}, inplace = True)\n",
    "objective.rename(columns = {0 : 'text'}, inplace = True)"
   ]
  },
  {
   "cell_type": "code",
   "execution_count": 49,
   "metadata": {},
   "outputs": [
    {
     "name": "stdout",
     "output_type": "stream",
     "text": [
      "(5000, 1)\n",
      "(5000, 1)\n"
     ]
    }
   ],
   "source": [
    "print(subjective.shape)\n",
    "print(objective.shape)"
   ]
  },
  {
   "cell_type": "code",
   "execution_count": 50,
   "metadata": {},
   "outputs": [],
   "source": [
    "subjective['is_subjective'] = [1]*subjective.shape[0]\n",
    "objective['is_subjective'] = [0]*subjective.shape[0]"
   ]
  },
  {
   "cell_type": "code",
   "execution_count": 51,
   "metadata": {},
   "outputs": [
    {
     "name": "stdout",
     "output_type": "stream",
     "text": [
      "                                                text  is_subjective\n",
      "0  smart and alert , thirteen conversations about...              1\n",
      "1  color , musical bounce and warm seas lapping o...              1\n",
      "2  it is not a mass-market entertainment but an u...              1\n",
      "3  a light-hearted french film about the spiritua...              1\n",
      "4  my wife is an actress has its moments in looki...              1                                                 text  is_subjective\n",
      "0  the movie begins in the past where a young boy...              0\n",
      "1  emerging from the human psyche and showing cha...              0\n",
      "2  spurning her mother's insistence that she get ...              0\n",
      "3  amitabh can't believe the board of directors a...              0\n",
      "4  she , among others excentricities , talks to a...              0\n"
     ]
    }
   ],
   "source": [
    "print(subjective.head(), objective.head())"
   ]
  },
  {
   "cell_type": "code",
   "execution_count": 52,
   "metadata": {},
   "outputs": [],
   "source": [
    "subj_obj = pd.concat([subjective, objective])"
   ]
  },
  {
   "cell_type": "code",
   "execution_count": 53,
   "metadata": {},
   "outputs": [
    {
     "data": {
      "text/plain": [
       "1    5000\n",
       "0    5000\n",
       "Name: is_subjective, dtype: int64"
      ]
     },
     "execution_count": 53,
     "metadata": {},
     "output_type": "execute_result"
    }
   ],
   "source": [
    "subj_obj['is_subjective'].value_counts()"
   ]
  },
  {
   "cell_type": "code",
   "execution_count": 54,
   "metadata": {},
   "outputs": [
    {
     "data": {
      "text/html": [
       "<div>\n",
       "<style scoped>\n",
       "    .dataframe tbody tr th:only-of-type {\n",
       "        vertical-align: middle;\n",
       "    }\n",
       "\n",
       "    .dataframe tbody tr th {\n",
       "        vertical-align: top;\n",
       "    }\n",
       "\n",
       "    .dataframe thead th {\n",
       "        text-align: right;\n",
       "    }\n",
       "</style>\n",
       "<table border=\"1\" class=\"dataframe\">\n",
       "  <thead>\n",
       "    <tr style=\"text-align: right;\">\n",
       "      <th></th>\n",
       "      <th>text</th>\n",
       "      <th>is_subjective</th>\n",
       "    </tr>\n",
       "  </thead>\n",
       "  <tbody>\n",
       "    <tr>\n",
       "      <th>0</th>\n",
       "      <td>smart and alert , thirteen conversations about...</td>\n",
       "      <td>1</td>\n",
       "    </tr>\n",
       "    <tr>\n",
       "      <th>1</th>\n",
       "      <td>color , musical bounce and warm seas lapping o...</td>\n",
       "      <td>1</td>\n",
       "    </tr>\n",
       "    <tr>\n",
       "      <th>2</th>\n",
       "      <td>it is not a mass-market entertainment but an u...</td>\n",
       "      <td>1</td>\n",
       "    </tr>\n",
       "    <tr>\n",
       "      <th>3</th>\n",
       "      <td>a light-hearted french film about the spiritua...</td>\n",
       "      <td>1</td>\n",
       "    </tr>\n",
       "    <tr>\n",
       "      <th>4</th>\n",
       "      <td>my wife is an actress has its moments in looki...</td>\n",
       "      <td>1</td>\n",
       "    </tr>\n",
       "  </tbody>\n",
       "</table>\n",
       "</div>"
      ],
      "text/plain": [
       "                                                text  is_subjective\n",
       "0  smart and alert , thirteen conversations about...              1\n",
       "1  color , musical bounce and warm seas lapping o...              1\n",
       "2  it is not a mass-market entertainment but an u...              1\n",
       "3  a light-hearted french film about the spiritua...              1\n",
       "4  my wife is an actress has its moments in looki...              1"
      ]
     },
     "execution_count": 54,
     "metadata": {},
     "output_type": "execute_result"
    }
   ],
   "source": [
    "subj_obj.head()"
   ]
  },
  {
   "cell_type": "code",
   "execution_count": 55,
   "metadata": {},
   "outputs": [
    {
     "data": {
      "image/png": "[encoded data removed]",
      "text/plain": [
       "<Figure size 432x288 with 1 Axes>"
      ]
     },
     "metadata": {
      "needs_background": "light"
     },
     "output_type": "display_data"
    }
   ],
   "source": [
    "sns.distplot([len(x) for x in subj_obj['text']])\n",
    "plt.xlabel('Phrase Length')\n",
    "plt.ylabel('Frequency')\n",
    "plt.title('Phrase Length Distribution')\n",
    "plt.tight_layout();"
   ]
  },
  {
   "cell_type": "code",
   "execution_count": 56,
   "metadata": {},
   "outputs": [],
   "source": [
    "# exporting to CSV\n",
    "\n",
    "subj_obj.to_csv('../data/train_data/subjectivity/subj_obj_formatted.csv', index = False)"
   ]
  }
 ],
 "metadata": {
  "kernelspec": {
   "display_name": "Python 3",
   "language": "python",
   "name": "python3"
  },
  "language_info": {
   "codemirror_mode": {
    "name": "ipython",
    "version": 3
   },
   "file_extension": ".py",
   "mimetype": "text/x-python",
   "name": "python",
   "nbconvert_exporter": "python",
   "pygments_lexer": "ipython3",
   "version": "3.7.6"
  }
 },
 "nbformat": 4,
 "nbformat_minor": 4
}
