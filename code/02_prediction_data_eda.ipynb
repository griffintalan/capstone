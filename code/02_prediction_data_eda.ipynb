{
 "cells": [
  {
   "cell_type": "markdown",
   "metadata": {},
   "source": [
    "# Prediction Data EDA"
   ]
  },
  {
   "cell_type": "code",
   "execution_count": 1,
   "metadata": {},
   "outputs": [],
   "source": [
    "import pandas as pd\n",
    "import requests\n",
    "from bs4 import BeautifulSoup\n",
    "import time\n",
    "import matplotlib.pyplot as plt\n",
    "import seaborn as sns\n",
    "import numpy as np"
   ]
  },
  {
   "cell_type": "code",
   "execution_count": 2,
   "metadata": {},
   "outputs": [],
   "source": [
    "# expanding csv import size to max\n",
    "\n",
    "import sys\n",
    "import csv\n",
    "maxInt = sys.maxsize\n",
    "overflow = True\n",
    "\n",
    "while overflow:\n",
    "    try:\n",
    "        csv.field_size_limit(maxInt)\n",
    "        overflow = False\n",
    "    except OverflowError:\n",
    "        maxInt = int(maxInt/10)"
   ]
  },
  {
   "cell_type": "markdown",
   "metadata": {},
   "source": [
    "## Prediction Data"
   ]
  },
  {
   "cell_type": "markdown",
   "metadata": {},
   "source": [
    "***Inaugural Addresses***"
   ]
  },
  {
   "cell_type": "code",
   "execution_count": 3,
   "metadata": {},
   "outputs": [
    {
     "data": {
      "text/html": [
       "<div>\n",
       "<style scoped>\n",
       "    .dataframe tbody tr th:only-of-type {\n",
       "        vertical-align: middle;\n",
       "    }\n",
       "\n",
       "    .dataframe tbody tr th {\n",
       "        vertical-align: top;\n",
       "    }\n",
       "\n",
       "    .dataframe thead th {\n",
       "        text-align: right;\n",
       "    }\n",
       "</style>\n",
       "<table border=\"1\" class=\"dataframe\">\n",
       "  <thead>\n",
       "    <tr style=\"text-align: right;\">\n",
       "      <th></th>\n",
       "      <th>Unnamed: 0</th>\n",
       "      <th>Name</th>\n",
       "      <th>Inaugural Address</th>\n",
       "      <th>Date</th>\n",
       "      <th>text</th>\n",
       "    </tr>\n",
       "  </thead>\n",
       "  <tbody>\n",
       "    <tr>\n",
       "      <th>0</th>\n",
       "      <td>4</td>\n",
       "      <td>George Washington</td>\n",
       "      <td>First Inaugural Address</td>\n",
       "      <td>Thursday, April 30, 1789</td>\n",
       "      <td>Fellow-Citizens of the Senate and o...</td>\n",
       "    </tr>\n",
       "    <tr>\n",
       "      <th>1</th>\n",
       "      <td>5</td>\n",
       "      <td>George Washington</td>\n",
       "      <td>Second Inaugural Address</td>\n",
       "      <td>Monday, March 4, 1793</td>\n",
       "      <td>Fellow Citizens:    I AM again cal...</td>\n",
       "    </tr>\n",
       "  </tbody>\n",
       "</table>\n",
       "</div>"
      ],
      "text/plain": [
       "   Unnamed: 0               Name         Inaugural Address  \\\n",
       "0           4  George Washington   First Inaugural Address   \n",
       "1           5  George Washington  Second Inaugural Address   \n",
       "\n",
       "                       Date                                               text  \n",
       "0  Thursday, April 30, 1789             Fellow-Citizens of the Senate and o...  \n",
       "1     Monday, March 4, 1793              Fellow Citizens:    I AM again cal...  "
      ]
     },
     "execution_count": 3,
     "metadata": {},
     "output_type": "execute_result"
    }
   ],
   "source": [
    "# Importing and viewing inauguration address data\n",
    "\n",
    "inaug = pd.read_csv('../data/prediction_data/raw_pred_data/inaugural_speeches.csv', engine = 'python')\n",
    "inaug.head(2)"
   ]
  },
  {
   "cell_type": "code",
   "execution_count": 4,
   "metadata": {},
   "outputs": [
    {
     "data": {
      "text/html": [
       "<div>\n",
       "<style scoped>\n",
       "    .dataframe tbody tr th:only-of-type {\n",
       "        vertical-align: middle;\n",
       "    }\n",
       "\n",
       "    .dataframe tbody tr th {\n",
       "        vertical-align: top;\n",
       "    }\n",
       "\n",
       "    .dataframe thead th {\n",
       "        text-align: right;\n",
       "    }\n",
       "</style>\n",
       "<table border=\"1\" class=\"dataframe\">\n",
       "  <thead>\n",
       "    <tr style=\"text-align: right;\">\n",
       "      <th></th>\n",
       "      <th>Name</th>\n",
       "      <th>Date</th>\n",
       "      <th>text</th>\n",
       "    </tr>\n",
       "  </thead>\n",
       "  <tbody>\n",
       "    <tr>\n",
       "      <th>0</th>\n",
       "      <td>George Washington</td>\n",
       "      <td>1789-04-30</td>\n",
       "      <td>Fellow-Citizens of the Senate and o...</td>\n",
       "    </tr>\n",
       "    <tr>\n",
       "      <th>1</th>\n",
       "      <td>George Washington</td>\n",
       "      <td>1793-03-04</td>\n",
       "      <td>Fellow Citizens:    I AM again cal...</td>\n",
       "    </tr>\n",
       "  </tbody>\n",
       "</table>\n",
       "</div>"
      ],
      "text/plain": [
       "                Name       Date  \\\n",
       "0  George Washington 1789-04-30   \n",
       "1  George Washington 1793-03-04   \n",
       "\n",
       "                                                text  \n",
       "0             Fellow-Citizens of the Senate and o...  \n",
       "1              Fellow Citizens:    I AM again cal...  "
      ]
     },
     "execution_count": 4,
     "metadata": {},
     "output_type": "execute_result"
    }
   ],
   "source": [
    "# dropping index and inaug address columns and converting to datetime\n",
    "\n",
    "inaug.drop(columns = ['Unnamed: 0', 'Inaugural Address'], inplace = True)\n",
    "inaug['Date'] = pd.to_datetime(inaug['Date'])\n",
    "inaug.head(2)"
   ]
  },
  {
   "cell_type": "code",
   "execution_count": 5,
   "metadata": {},
   "outputs": [
    {
     "data": {
      "image/png": "[encoded data removed]",
      "text/plain": [
       "<Figure size 432x288 with 1 Axes>"
      ]
     },
     "metadata": {
      "needs_background": "light"
     },
     "output_type": "display_data"
    }
   ],
   "source": [
    "inaug_lengths = []\n",
    "for text in inaug['text']:\n",
    "    inaug_lengths.append(len(text))\n",
    "    \n",
    "sns.distplot(inaug_lengths)\n",
    "plt.xlabel('Document Length')\n",
    "plt.ylabel('Frequency')\n",
    "plt.title('Document Length Frequency');"
   ]
  },
  {
   "cell_type": "code",
   "execution_count": 6,
   "metadata": {},
   "outputs": [],
   "source": [
    "# exporting to csv\n",
    "\n",
    "inaug.to_csv('../data/prediction_data/formatted_pred_data/inaugural_formatted.csv', index = False)"
   ]
  },
  {
   "cell_type": "markdown",
   "metadata": {},
   "source": [
    "***State of the Union Addresses***"
   ]
  },
  {
   "cell_type": "code",
   "execution_count": 7,
   "metadata": {},
   "outputs": [
    {
     "data": {
      "text/plain": [
       "200"
      ]
     },
     "execution_count": 7,
     "metadata": {},
     "output_type": "execute_result"
    }
   ],
   "source": [
    "# setting url and grabbing page with SOTU speech links (urls)\n",
    "\n",
    "url = 'https://www.presidency.ucsb.edu/documents/presidential-documents-archive-guidebook/annual-messages-congress-the-state-the-union'\n",
    "res = requests.get(url)\n",
    "res.status_code"
   ]
  },
  {
   "cell_type": "code",
   "execution_count": 8,
   "metadata": {},
   "outputs": [
    {
     "data": {
      "text/plain": [
       "'Table of All State of the Union Messages and Addresses\\nPresident\\nYears of term\\n\\xa0Delivered as a Speech (Address)\\n\\xa0 \\xa0 \\xa0 \\xa0 \\xa0 \\xa0 Delivered as a Written Message\\n\\xa0\\n\\xa0\\n1st\\n2nd\\n3rd\\n4th\\nend 4th\\n1st\\n2nd\\n3rd\\n4th\\ne'"
      ]
     },
     "execution_count": 8,
     "metadata": {},
     "output_type": "execute_result"
    }
   ],
   "source": [
    "# extracting URL table\n",
    "\n",
    "soup = BeautifulSoup(res.content, \"lxml\")\n",
    "table = soup.find('table')\n",
    "table.text[:200]"
   ]
  },
  {
   "cell_type": "code",
   "execution_count": 9,
   "metadata": {},
   "outputs": [
    {
     "data": {
      "text/html": [
       "<div>\n",
       "<style scoped>\n",
       "    .dataframe tbody tr th:only-of-type {\n",
       "        vertical-align: middle;\n",
       "    }\n",
       "\n",
       "    .dataframe tbody tr th {\n",
       "        vertical-align: top;\n",
       "    }\n",
       "\n",
       "    .dataframe thead th {\n",
       "        text-align: right;\n",
       "    }\n",
       "</style>\n",
       "<table border=\"1\" class=\"dataframe\">\n",
       "  <thead>\n",
       "    <tr style=\"text-align: right;\">\n",
       "      <th></th>\n",
       "      <th>President</th>\n",
       "      <th>Speech</th>\n",
       "      <th>Year</th>\n",
       "    </tr>\n",
       "  </thead>\n",
       "  <tbody>\n",
       "    <tr>\n",
       "      <th>0</th>\n",
       "      <td>Donald J. Trump</td>\n",
       "      <td>https://www.presidency.ucsb.edu/ws/index.php?p...</td>\n",
       "      <td>2017</td>\n",
       "    </tr>\n",
       "    <tr>\n",
       "      <th>1</th>\n",
       "      <td>Donald J. Trump</td>\n",
       "      <td>https://www.presidency.ucsb.edu/documents/addr...</td>\n",
       "      <td>2018</td>\n",
       "    </tr>\n",
       "    <tr>\n",
       "      <th>2</th>\n",
       "      <td>Donald J. Trump</td>\n",
       "      <td>https://www.presidency.ucsb.edu/documents/addr...</td>\n",
       "      <td>2019</td>\n",
       "    </tr>\n",
       "    <tr>\n",
       "      <th>3</th>\n",
       "      <td>Donald J. Trump</td>\n",
       "      <td>https://www.presidency.ucsb.edu/documents/addr...</td>\n",
       "      <td>2020</td>\n",
       "    </tr>\n",
       "    <tr>\n",
       "      <th>4</th>\n",
       "      <td>Barack Obama</td>\n",
       "      <td>https://www.presidency.ucsb.edu/ws/index.php?p...</td>\n",
       "      <td>2013</td>\n",
       "    </tr>\n",
       "  </tbody>\n",
       "</table>\n",
       "</div>"
      ],
      "text/plain": [
       "         President                                             Speech  Year\n",
       "0  Donald J. Trump  https://www.presidency.ucsb.edu/ws/index.php?p...  2017\n",
       "1  Donald J. Trump  https://www.presidency.ucsb.edu/documents/addr...  2018\n",
       "2  Donald J. Trump  https://www.presidency.ucsb.edu/documents/addr...  2019\n",
       "3  Donald J. Trump  https://www.presidency.ucsb.edu/documents/addr...  2020\n",
       "4     Barack Obama  https://www.presidency.ucsb.edu/ws/index.php?p...  2013"
      ]
     },
     "execution_count": 9,
     "metadata": {},
     "output_type": "execute_result"
    }
   ],
   "source": [
    "# Extracting web data into usable dataframe\n",
    "\n",
    "speeches = []\n",
    "current_pres = ''\n",
    "for row in table.find_all('tr')[3 : -13]: \n",
    "    if row.find('td').text.strip() != '':\n",
    "        current_pres = row.find('td').text.strip()\n",
    "    for element in row.find_all('a'):\n",
    "        try:\n",
    "            speeches.append([current_pres, element.attrs['href'].strip(), element.text.strip()])\n",
    "        except:\n",
    "            pass\n",
    "sotu_speeches = pd.DataFrame(speeches, columns = ['President', 'Speech', 'Year'])\n",
    "sotu_speeches[:5]"
   ]
  },
  {
   "cell_type": "code",
   "execution_count": 10,
   "metadata": {
    "scrolled": true
   },
   "outputs": [
    {
     "data": {
      "text/plain": [
       "243"
      ]
     },
     "execution_count": 10,
     "metadata": {},
     "output_type": "execute_result"
    }
   ],
   "source": [
    "# investigating import error - how many bad urls compared to 244 rows above?\n",
    "\n",
    "sum(['https' in x for x in sotu_speeches['Speech']])"
   ]
  },
  {
   "cell_type": "code",
   "execution_count": 11,
   "metadata": {},
   "outputs": [
    {
     "name": "stdout",
     "output_type": "stream",
     "text": [
      "Pulling speech 1/243\n",
      "Pulling speech 10/243\n",
      "Pulling speech 20/243\n",
      "Pulling speech 30/243\n",
      "Pulling speech 40/243\n",
      "Pulling speech 50/243\n",
      "Pulling speech 60/243\n",
      "Pulling speech 70/243\n",
      "Pulling speech 80/243\n",
      "Pulling speech 90/243\n",
      "Pulling speech 100/243\n",
      "Pulling speech 110/243\n",
      "Pulling speech 120/243\n",
      "Pulling speech 130/243\n",
      "Pulling speech 140/243\n",
      "Pulling speech 150/243\n",
      "Pulling speech 160/243\n",
      "Pulling speech 170/243\n",
      "Pulling speech 180/243\n",
      "Pulling speech 190/243\n",
      "Pulling speech 200/243\n",
      "Pulling speech 210/243\n",
      "Pulling speech 220/243\n",
      "Pulling speech 230/243\n",
      "Pulling speech 240/243\n"
     ]
    }
   ],
   "source": [
    "# Extracting speeches from individual URL's\n",
    "\n",
    "speeches = []\n",
    "i = 1\n",
    "total = sum(['https' in x for x in sotu_speeches['Speech']])\n",
    "for url in sotu_speeches['Speech']:\n",
    "    if 'https' in url:\n",
    "        res = requests.get(url)\n",
    "        assert res.status_code == 200\n",
    "        soup = BeautifulSoup(res.content, \"lxml\")\n",
    "        paragraphs = []\n",
    "        for paragraph in soup.find_all('p'):\n",
    "            paragraphs.append(paragraph.text.strip())\n",
    "        speeches.append(paragraphs)\n",
    "        if i ==1 or i % 10 == 0:\n",
    "            print(f'Pulling speech {i}/{total}')\n",
    "        i += 1\n",
    "        time.sleep(2)"
   ]
  },
  {
   "cell_type": "code",
   "execution_count": 12,
   "metadata": {},
   "outputs": [
    {
     "data": {
      "text/html": [
       "<div>\n",
       "<style scoped>\n",
       "    .dataframe tbody tr th:only-of-type {\n",
       "        vertical-align: middle;\n",
       "    }\n",
       "\n",
       "    .dataframe tbody tr th {\n",
       "        vertical-align: top;\n",
       "    }\n",
       "\n",
       "    .dataframe thead th {\n",
       "        text-align: right;\n",
       "    }\n",
       "</style>\n",
       "<table border=\"1\" class=\"dataframe\">\n",
       "  <thead>\n",
       "    <tr style=\"text-align: right;\">\n",
       "      <th></th>\n",
       "      <th>0</th>\n",
       "      <th>1</th>\n",
       "      <th>2</th>\n",
       "      <th>3</th>\n",
       "      <th>4</th>\n",
       "      <th>5</th>\n",
       "      <th>6</th>\n",
       "      <th>7</th>\n",
       "      <th>8</th>\n",
       "      <th>9</th>\n",
       "      <th>...</th>\n",
       "      <th>724</th>\n",
       "      <th>725</th>\n",
       "      <th>726</th>\n",
       "      <th>727</th>\n",
       "      <th>728</th>\n",
       "      <th>729</th>\n",
       "      <th>730</th>\n",
       "      <th>731</th>\n",
       "      <th>732</th>\n",
       "      <th>733</th>\n",
       "    </tr>\n",
       "  </thead>\n",
       "  <tbody>\n",
       "    <tr>\n",
       "      <th>0</th>\n",
       "      <td>About Search</td>\n",
       "      <td></td>\n",
       "      <td>Thank you very much. Mr. Speaker, Mr. Vice Pre...</td>\n",
       "      <td>Each American generation passes the torch of t...</td>\n",
       "      <td>What we are witnessing today is the renewal of...</td>\n",
       "      <td>In 9 years, the United States will celebrate t...</td>\n",
       "      <td>I will not allow the mistakes of recent decade...</td>\n",
       "      <td>We've defended the borders of other nations, w...</td>\n",
       "      <td>Then, in 2016, the Earth shifted beneath our f...</td>\n",
       "      <td>But then the quiet voices became a loud chorus...</td>\n",
       "      <td>...</td>\n",
       "      <td>None</td>\n",
       "      <td>None</td>\n",
       "      <td>None</td>\n",
       "      <td>None</td>\n",
       "      <td>None</td>\n",
       "      <td>None</td>\n",
       "      <td>None</td>\n",
       "      <td>None</td>\n",
       "      <td>None</td>\n",
       "      <td>None</td>\n",
       "    </tr>\n",
       "    <tr>\n",
       "      <th>1</th>\n",
       "      <td>About Search</td>\n",
       "      <td></td>\n",
       "      <td>The President. Mr. Speaker, Mr. Vice President...</td>\n",
       "      <td>Over the last year, we have made incredible pr...</td>\n",
       "      <td>Each test has forged new American heroes to re...</td>\n",
       "      <td>We heard tales of Americans like Coast Guard P...</td>\n",
       "      <td>We heard about Americans like firefighter Davi...</td>\n",
       "      <td>Some trials over the past year touched this Ch...</td>\n",
       "      <td>In the aftermath of that terrible shooting, we...</td>\n",
       "      <td>Since the election, we have created 2.4 millio...</td>\n",
       "      <td>...</td>\n",
       "      <td>None</td>\n",
       "      <td>None</td>\n",
       "      <td>None</td>\n",
       "      <td>None</td>\n",
       "      <td>None</td>\n",
       "      <td>None</td>\n",
       "      <td>None</td>\n",
       "      <td>None</td>\n",
       "      <td>None</td>\n",
       "      <td>None</td>\n",
       "    </tr>\n",
       "    <tr>\n",
       "      <th>2</th>\n",
       "      <td>About Search</td>\n",
       "      <td></td>\n",
       "      <td>Madam Speaker, Mr. Vice President, Members of ...</td>\n",
       "      <td>We meet tonight at a moment of unlimited poten...</td>\n",
       "      <td>Millions of our fellow citizens are watching u...</td>\n",
       "      <td>The agenda I will lay out this evening is not ...</td>\n",
       "      <td>Many of us have campaigned on the same core pr...</td>\n",
       "      <td>There is a new opportunity in American politic...</td>\n",
       "      <td>This year, America will recognize two importan...</td>\n",
       "      <td>In June, we mark 75 years since the start of w...</td>\n",
       "      <td>...</td>\n",
       "      <td>None</td>\n",
       "      <td>None</td>\n",
       "      <td>None</td>\n",
       "      <td>None</td>\n",
       "      <td>None</td>\n",
       "      <td>None</td>\n",
       "      <td>None</td>\n",
       "      <td>None</td>\n",
       "      <td>None</td>\n",
       "      <td>None</td>\n",
       "    </tr>\n",
       "  </tbody>\n",
       "</table>\n",
       "<p>3 rows × 734 columns</p>\n",
       "</div>"
      ],
      "text/plain": [
       "            0   1                                                  2    \\\n",
       "0  About Search      Thank you very much. Mr. Speaker, Mr. Vice Pre...   \n",
       "1  About Search      The President. Mr. Speaker, Mr. Vice President...   \n",
       "2  About Search      Madam Speaker, Mr. Vice President, Members of ...   \n",
       "\n",
       "                                                 3    \\\n",
       "0  Each American generation passes the torch of t...   \n",
       "1  Over the last year, we have made incredible pr...   \n",
       "2  We meet tonight at a moment of unlimited poten...   \n",
       "\n",
       "                                                 4    \\\n",
       "0  What we are witnessing today is the renewal of...   \n",
       "1  Each test has forged new American heroes to re...   \n",
       "2  Millions of our fellow citizens are watching u...   \n",
       "\n",
       "                                                 5    \\\n",
       "0  In 9 years, the United States will celebrate t...   \n",
       "1  We heard tales of Americans like Coast Guard P...   \n",
       "2  The agenda I will lay out this evening is not ...   \n",
       "\n",
       "                                                 6    \\\n",
       "0  I will not allow the mistakes of recent decade...   \n",
       "1  We heard about Americans like firefighter Davi...   \n",
       "2  Many of us have campaigned on the same core pr...   \n",
       "\n",
       "                                                 7    \\\n",
       "0  We've defended the borders of other nations, w...   \n",
       "1  Some trials over the past year touched this Ch...   \n",
       "2  There is a new opportunity in American politic...   \n",
       "\n",
       "                                                 8    \\\n",
       "0  Then, in 2016, the Earth shifted beneath our f...   \n",
       "1  In the aftermath of that terrible shooting, we...   \n",
       "2  This year, America will recognize two importan...   \n",
       "\n",
       "                                                 9    ...   724   725   726  \\\n",
       "0  But then the quiet voices became a loud chorus...  ...  None  None  None   \n",
       "1  Since the election, we have created 2.4 millio...  ...  None  None  None   \n",
       "2  In June, we mark 75 years since the start of w...  ...  None  None  None   \n",
       "\n",
       "    727   728   729   730   731   732   733  \n",
       "0  None  None  None  None  None  None  None  \n",
       "1  None  None  None  None  None  None  None  \n",
       "2  None  None  None  None  None  None  None  \n",
       "\n",
       "[3 rows x 734 columns]"
      ]
     },
     "execution_count": 12,
     "metadata": {},
     "output_type": "execute_result"
    }
   ],
   "source": [
    "# data was pulled in paragraphs, seeing if there are any head/tail cleaning needed\n",
    "\n",
    "pd.DataFrame(speeches).head(3)"
   ]
  },
  {
   "cell_type": "code",
   "execution_count": 13,
   "metadata": {},
   "outputs": [
    {
     "name": "stdout",
     "output_type": "stream",
     "text": [
      "About Search    243\n",
      "Name: 0, dtype: int64\n",
      "    243\n",
      "Name: 0, dtype: int64\n"
     ]
    }
   ],
   "source": [
    "# Ensuring that the first two paragraphs are the same in all records before dropping \n",
    "\n",
    "print(pd.DataFrame([x[0] for x in speeches])[0].value_counts())\n",
    "print(pd.DataFrame([x[1] for x in speeches])[0].value_counts())"
   ]
  },
  {
   "cell_type": "code",
   "execution_count": 14,
   "metadata": {},
   "outputs": [
    {
     "data": {
      "text/html": [
       "<div>\n",
       "<style scoped>\n",
       "    .dataframe tbody tr th:only-of-type {\n",
       "        vertical-align: middle;\n",
       "    }\n",
       "\n",
       "    .dataframe tbody tr th {\n",
       "        vertical-align: top;\n",
       "    }\n",
       "\n",
       "    .dataframe thead th {\n",
       "        text-align: right;\n",
       "    }\n",
       "</style>\n",
       "<table border=\"1\" class=\"dataframe\">\n",
       "  <thead>\n",
       "    <tr style=\"text-align: right;\">\n",
       "      <th></th>\n",
       "      <th>0</th>\n",
       "      <th>1</th>\n",
       "      <th>2</th>\n",
       "      <th>3</th>\n",
       "      <th>4</th>\n",
       "      <th>5</th>\n",
       "      <th>6</th>\n",
       "      <th>7</th>\n",
       "      <th>8</th>\n",
       "      <th>9</th>\n",
       "    </tr>\n",
       "  </thead>\n",
       "  <tbody>\n",
       "    <tr>\n",
       "      <th>0</th>\n",
       "      <td>When we fulfill this vision, when we celebrate...</td>\n",
       "      <td>From now on, America will be empowered by our ...</td>\n",
       "      <td>I am asking all citizens to embrace this renew...</td>\n",
       "      <td>Thank you, God bless you, and God bless the Un...</td>\n",
       "      <td>NOTE: The President spoke at 9:09 p.m. in the ...</td>\n",
       "      <td>Donald J. Trump, Address Before a Joint Sessio...</td>\n",
       "      <td>The American Presidency ProjectJohn Woolley an...</td>\n",
       "      <td>Twitter Facebook</td>\n",
       "      <td>Copyright © The American Presidency ProjectTer...</td>\n",
       "      <td></td>\n",
       "    </tr>\n",
       "    <tr>\n",
       "      <th>1</th>\n",
       "      <td>They work in every trade. They sacrifice to ra...</td>\n",
       "      <td>Americans fill the world with art and music. T...</td>\n",
       "      <td>As long as we are proud of who we are and what...</td>\n",
       "      <td>Thank you. And God bless America. Goodnight.</td>\n",
       "      <td>NOTE: The President spoke at 9:10 p.m. in the ...</td>\n",
       "      <td>Donald J. Trump, Address Before a Joint Sessio...</td>\n",
       "      <td>The American Presidency ProjectJohn Woolley an...</td>\n",
       "      <td>Twitter Facebook</td>\n",
       "      <td>Copyright © The American Presidency ProjectTer...</td>\n",
       "      <td></td>\n",
       "    </tr>\n",
       "    <tr>\n",
       "      <th>2</th>\n",
       "      <td>This is the time to reignite the American imag...</td>\n",
       "      <td>This is our future, our fate, and our choice t...</td>\n",
       "      <td>No matter the trials we face, no matter the ch...</td>\n",
       "      <td>We must keep America first in our hearts. We m...</td>\n",
       "      <td>Thank you. God bless you. And God bless Americ...</td>\n",
       "      <td>Donald J. Trump, Address Before a Joint Sessio...</td>\n",
       "      <td>The American Presidency ProjectJohn Woolley an...</td>\n",
       "      <td>Twitter Facebook</td>\n",
       "      <td>Copyright © The American Presidency ProjectTer...</td>\n",
       "      <td></td>\n",
       "    </tr>\n",
       "    <tr>\n",
       "      <th>3</th>\n",
       "      <td>America is the place where anything can happen...</td>\n",
       "      <td>This Nation is our canvas, and this country is...</td>\n",
       "      <td>Our spirit is still young, the Sun is still ri...</td>\n",
       "      <td>Thank you, God bless you, and God bless Americ...</td>\n",
       "      <td>NOTE: The President spoke at 9:06 p.m. in the ...</td>\n",
       "      <td>Donald J. Trump, Address Before a Joint Sessio...</td>\n",
       "      <td>The American Presidency ProjectJohn Woolley an...</td>\n",
       "      <td>Twitter Facebook</td>\n",
       "      <td>Copyright © The American Presidency ProjectTer...</td>\n",
       "      <td></td>\n",
       "    </tr>\n",
       "  </tbody>\n",
       "</table>\n",
       "</div>"
      ],
      "text/plain": [
       "                                                   0  \\\n",
       "0  When we fulfill this vision, when we celebrate...   \n",
       "1  They work in every trade. They sacrifice to ra...   \n",
       "2  This is the time to reignite the American imag...   \n",
       "3  America is the place where anything can happen...   \n",
       "\n",
       "                                                   1  \\\n",
       "0  From now on, America will be empowered by our ...   \n",
       "1  Americans fill the world with art and music. T...   \n",
       "2  This is our future, our fate, and our choice t...   \n",
       "3  This Nation is our canvas, and this country is...   \n",
       "\n",
       "                                                   2  \\\n",
       "0  I am asking all citizens to embrace this renew...   \n",
       "1  As long as we are proud of who we are and what...   \n",
       "2  No matter the trials we face, no matter the ch...   \n",
       "3  Our spirit is still young, the Sun is still ri...   \n",
       "\n",
       "                                                   3  \\\n",
       "0  Thank you, God bless you, and God bless the Un...   \n",
       "1       Thank you. And God bless America. Goodnight.   \n",
       "2  We must keep America first in our hearts. We m...   \n",
       "3  Thank you, God bless you, and God bless Americ...   \n",
       "\n",
       "                                                   4  \\\n",
       "0  NOTE: The President spoke at 9:09 p.m. in the ...   \n",
       "1  NOTE: The President spoke at 9:10 p.m. in the ...   \n",
       "2  Thank you. God bless you. And God bless Americ...   \n",
       "3  NOTE: The President spoke at 9:06 p.m. in the ...   \n",
       "\n",
       "                                                   5  \\\n",
       "0  Donald J. Trump, Address Before a Joint Sessio...   \n",
       "1  Donald J. Trump, Address Before a Joint Sessio...   \n",
       "2  Donald J. Trump, Address Before a Joint Sessio...   \n",
       "3  Donald J. Trump, Address Before a Joint Sessio...   \n",
       "\n",
       "                                                   6                 7  \\\n",
       "0  The American Presidency ProjectJohn Woolley an...  Twitter Facebook   \n",
       "1  The American Presidency ProjectJohn Woolley an...  Twitter Facebook   \n",
       "2  The American Presidency ProjectJohn Woolley an...  Twitter Facebook   \n",
       "3  The American Presidency ProjectJohn Woolley an...  Twitter Facebook   \n",
       "\n",
       "                                                   8 9  \n",
       "0  Copyright © The American Presidency ProjectTer...    \n",
       "1  Copyright © The American Presidency ProjectTer...    \n",
       "2  Copyright © The American Presidency ProjectTer...    \n",
       "3  Copyright © The American Presidency ProjectTer...    "
      ]
     },
     "execution_count": 14,
     "metadata": {},
     "output_type": "execute_result"
    }
   ],
   "source": [
    "# Looking at tail value symmetry for records\n",
    "\n",
    "end_values = []\n",
    "for speech in speeches:\n",
    "    end_values.append(speech[-10:])\n",
    "    \n",
    "pd.DataFrame(end_values[:4])    "
   ]
  },
  {
   "cell_type": "code",
   "execution_count": 15,
   "metadata": {},
   "outputs": [
    {
     "data": {
      "text/plain": [
       "'Thank you very much. Mr. Speaker, Mr. Vice President, Members of Congress, the First Lady of the United States, and citizens of America: Tonight, as we mark the conclusion of our celebration of Black '"
      ]
     },
     "execution_count": 15,
     "metadata": {},
     "output_type": "execute_result"
    }
   ],
   "source": [
    "# Getting rid of first 2 and last 5 paragraphs for each speech - no relevant data\n",
    "\n",
    "trimmed = []\n",
    "for speech in speeches:\n",
    "    trimmed.append(speech[2:-5])\n",
    "    \n",
    "trimmed[0][0][:200]"
   ]
  },
  {
   "cell_type": "code",
   "execution_count": 16,
   "metadata": {},
   "outputs": [],
   "source": [
    "# Creating a copy of trimmed, iterating between it and a 3rd copy of trimmed,\n",
    "# and removing if it is in the list of common/administrative trail elements \n",
    "\n",
    "speeches_trimmed = trimmed.copy()\n",
    "speeches_trimmed_2 = []\n",
    "\n",
    "toggle = True\n",
    "\n",
    "for _ in range(10):\n",
    "    if toggle:\n",
    "        speeches_trimmed_2 = []\n",
    "        for speech in speeches_trimmed:\n",
    "            if ('APP Note' in speech[-1]) | ('Note:' in speech[-1]) | (speech[-1] == '') | ('EDITORIAL' in speech[-1]) | ('* White' in speech[-1]) | ('Earlier in the day' in speech[-1]) | ('NOTE:' in speech[-1]) | ('On the same day an advance text of the' in speech[-1])| ('The White house also released the' in speech[-1])| ('The President spoke from a prepared text' in speech[-1])| ('Delivered in person before a joint' in speech[-1])| ('The Address as reported from the floor' in speech[-1])| ('As delivered in person before a joint' in speech[-1])| ('As printed above' in speech[-1]) | ('An advance text of the president' in speech[-1]) | ('The APP thanks Dr. Daniel Stowell' in speech[-1]) | ('We thank Dr. Daniel W. Stowell' in speech[-1]):\n",
    "                speeches_trimmed_2.append(speech[:-1])\n",
    "            else:\n",
    "                speeches_trimmed_2.append(speech)\n",
    "        toggle = False\n",
    "    else:\n",
    "        speeches_trimmed = []\n",
    "        for speech in speeches_trimmed_2:\n",
    "            if ('APP Note' in speech[-1]) | ('Note:' in speech[-1]) | (speech[-1] == '') | ('EDITORIAL' in speech[-1]) | ('* White' in speech[-1]) | ('Earlier in the day' in speech[-1]) | ('NOTE:' in speech[-1]) | ('On the same day an advance text of the' in speech[-1])| ('The White house also released the' in speech[-1])| ('The President spoke from a prepared text' in speech[-1])| ('Delivered in person before a joint' in speech[-1])| ('The Address as reported from the floor' in speech[-1])| ('As delivered in person before a joint' in speech[-1])| ('As printed above' in speech[-1]) | ('An advance text of the president' in speech[-1]) | ('The APP thanks Dr. Daniel Stowell' in speech[-1]) | ('We thank Dr. Daniel W. Stowell' in speech[-1]):\n",
    "                speeches_trimmed.append(speech[:-1])\n",
    "            else:\n",
    "                speeches_trimmed.append(speech)\n",
    "        toggle = True"
   ]
  },
  {
   "cell_type": "code",
   "execution_count": 17,
   "metadata": {},
   "outputs": [
    {
     "data": {
      "text/plain": [
       "DWIGHT D. EISENHOWER                                                                                                                                                                                                                                                     8\n",
       "Goodnight.                                                                                                                                                                                                                                                               4\n",
       "Thank you, God bless you, and God bless America.                                                                                                                                                                                                                         3\n",
       "We pray that we may be worthy of the unlimited opportunities that God has given us.                                                                                                                                                                                      2\n",
       "HARRY S. TRUMAN                                                                                                                                                                                                                                                          2\n",
       "God bless you, and God bless the United States.                                                                                                                                                                                                                          1\n",
       "Any legislation whereby Congress may lawfully supplement the guaranties which the Constitution affords for the equal enjoyment by all the citizens of the United States of every right, privilege, and immunity of citizenship will receive my unhesitating approval.    1\n",
       "Name: 0, dtype: int64"
      ]
     },
     "execution_count": 17,
     "metadata": {},
     "output_type": "execute_result"
    }
   ],
   "source": [
    "# checking most frequent last lines to ensure code above did as expected\n",
    "\n",
    "test_check = []\n",
    "for speech in speeches_trimmed:\n",
    "    test_check.append(speech[-1])\n",
    "\n",
    "pd.DataFrame(test_check)[0].value_counts()[:7]"
   ]
  },
  {
   "cell_type": "code",
   "execution_count": 18,
   "metadata": {},
   "outputs": [
    {
     "data": {
      "text/plain": [
       "['Thank you, God bless you, and God bless the United States.',\n",
       " 'Thank you. And God bless America. Goodnight.',\n",
       " 'Thank you. God bless you. And God bless America. Thank you very m',\n",
       " 'Thank you, God bless you, and God bless America. Thank you very m',\n",
       " 'Thank you. God bless you, and God bless these United States of Am',\n",
       " 'God bless you, and God bless the United States of America.',\n",
       " 'Thank you. God bless you. God bless this country we love. Thank y',\n",
       " 'Thank you. God bless you. God bless the United States of America.',\n",
       " 'Thank you. God bless you, and may God bless the United States of ',\n",
       " 'Thank you. God bless you, and God bless the United States of Amer',\n",
       " 'Thank you. God bless you, and may God bless the United States of ',\n",
       " 'Thank you, God bless you, and God bless the United States of Amer',\n",
       " 'Thank you, and may God bless America.',\n",
       " 'May God bless America.',\n",
       " 'See you next year. Thank you for your prayers.',\n",
       " \"So tonight, with confidence in freedom's power and trust in the p\",\n",
       " 'Thank you all. Good night, and God bless.',\n",
       " 'Thank you all. May God bless.',\n",
       " 'May He guide us now. And may God continue to bless the United Sta',\n",
       " 'May God continue to bless America.',\n",
       " 'Thank you, God bless you, and God bless America.',\n",
       " 'God bless you, and God bless the United States.',\n",
       " 'Thank you, and good evening.',\n",
       " 'Thank you, God bless you, and God bless America.',\n",
       " 'Thank you. God bless America.',\n",
       " 'Thank you, and God bless America.',\n",
       " 'Thank you, and God bless you all.',\n",
       " 'Thank you. God bless you, and God bless the United States of Amer',\n",
       " 'Thank you. God bless you, and God bless America.',\n",
       " 'God bless all of you, and may God bless this great nation, the Un',\n",
       " 'May God bless the United States of America. Thank you very, very ',\n",
       " 'And so, we move on together, a rising nation, the once and future',\n",
       " 'Jean, Mother Hale, your lives tell us that the oldest American sa',\n",
       " \"So, now it's up to us, all of us, to prepare America for that day\",\n",
       " 'Thank you, God bless you, and God bless America.',\n",
       " 'We can be proud that for them and for us, as those lights along t',\n",
       " 'Thank you, and good night.',\n",
       " 'Well, that President and that Congress did not fail the American ',\n",
       " \"If we do that, if we care what our children and our children's ch\",\n",
       " 'Thank you very much. God bless you, and God bless America.',\n",
       " 'Each of us here tonight—and all who are listening in your homes—m',\n",
       " 'Tonight, I ask you, the Members of the Congress, to join me in bu',\n",
       " 'Together let us make of this time of challenge and danger a decad',\n",
       " 'JIMMY CARTER\\nThe White House,\\nJanuary 19, 1978.',\n",
       " 'JIMMY CARTER.\\nThe White House,\\nJanuary 25, 1979.',\n",
       " 'JIMMY CARTER\\nThe White House,\\nJanuary 21, 1980.',\n",
       " 'January 16, 1981.',\n",
       " 'As our 200th anniversary approaches, we owe it to ourselves and t',\n",
       " 'So, all these magic memories which link eight generations of Amer',\n",
       " 'Good night. God bless you.',\n",
       " 'But my colleagues, this I believe: With the help of God, who has ',\n",
       " 'RICHARD NIXON\\nThe White House,\\nJanuary 30, 1974.',\n",
       " 'May God give us the wisdom, the strength and, above all, the idea',\n",
       " 'The White House also released the transcripts of three news brief',\n",
       " 'That is why my call upon the Congress today is for a high statesm',\n",
       " 'RICHARD NIXON\\nTHE WHITE HOUSE,\\nJanuary 20, 1972.',\n",
       " 'So it shall always be, while God is willing, and we are strong en',\n",
       " 'The work must be our work now. Scarred by the weaknesses of man, ',\n",
       " 'So with your understanding, I would hope your confidence, and you',\n",
       " 'So this, my friends, is the State of our Union: seeking, building',\n",
       " 'That is what I hope. But I believe that at least it will be said ',\n",
       " 'So I ask you now in the Congress and in the country to join with ',\n",
       " 'In the words of a great President, whose birthday we honor today,',\n",
       " 'And in this high endeavor, may God watch over the United States o',\n",
       " 'Today we still welcome those winds of change--and we have every r',\n",
       " 'DWIGHT D. EISENHOWER',\n",
       " 'DWIGHT D. EISENHOWER',\n",
       " 'DWIGHT D. EISENHOWER',\n",
       " 'DWIGHT D. EISENHOWER',\n",
       " 'DWIGHT D. EISENHOWER',\n",
       " 'DWIGHT D. EISENHOWER',\n",
       " 'DWIGHT D. EISENHOWER',\n",
       " 'The address as reported from the floor appears in the Congression',\n",
       " 'Goodnight.',\n",
       " 'DWIGHT D. EISENHOWER',\n",
       " 'Goodnight.',\n",
       " 'With that help from Almighty God which we have humbly acknowledge',\n",
       " 'As we approach the halfway mark of the 20th century, we should as',\n",
       " 'These are the things that give meaning to our lives, and which we',\n",
       " 'Let us prove, again, that we are not merely sunshine patriots and',\n",
       " 'HARRY S. TRUMAN',\n",
       " 'May He give us wisdom to lead the peoples of the world in His way',\n",
       " 'This is the hour to rededicate ourselves to the faith in God that',\n",
       " 'HARRY S. TRUMAN',\n",
       " 'We pray that we may be worthy of the unlimited opportunities that',\n",
       " 'Goodnight.',\n",
       " 'We pray that we may be worthy of the unlimited opportunities that',\n",
       " 'Goodnight.',\n",
       " 'This nation has placed its destiny in the hands and heads and hea',\n",
       " 'That is the conflict that day and night now pervades our lives.\\nN',\n",
       " 'But, as we face that continuing task, we may know that the state ',\n",
       " 'Each and every one of us has a solemn obligation under God to ser',\n",
       " 'In that spirit of endeavor and service I greet the 75th Congress ',\n",
       " 'I am sure the Congress of the United States will not let the peop',\n",
       " 'This generation will \"nobly save or meanly lose the last best hop',\n",
       " 'May the year 1940 be pointed to by our children as another period',\n",
       " 'A final personal word. I know that each of you will appreciate th',\n",
       " 'It is not empty optimism that moves me to a strong hope in the co',\n",
       " '\"What great crises teach all men whom the example and counsel of ',\n",
       " 'HERBERT HOOVER\\nThe White House,\\nDecember 3, 1929',\n",
       " 'HERBERT HOOVER\\nThe White House,\\nDecember 2, 1930.',\n",
       " 'HERBERT HOOVER\\nThe White House,\\nDecember 8, 1931.',\n",
       " 'HERBERT HOOVER\\nThe White House,\\nDecember 6, 1932.',\n",
       " 'In all your deliberations you should remember that the purpose of',\n",
       " 'We need ideals that can be followed in daily life, that can be tr',\n",
       " 'Our country has made much progress. But it has taken, and will co',\n",
       " 'The end of government is to keep open the opportunity for a more ',\n",
       " 'The world has had enough of the curse of hatred and selfishness, ',\n",
       " 'These are the very foundations of America. On them has been erect',\n",
       " 'It is easy to believe a world-hope is centered on this Capital Ci',\n",
       " 'After all there is less difference about the part this great Repu',\n",
       " 'I have spoken plainly because this seems to me the time when it i',\n",
       " 'May I not hope, Gentlemen of the Congress, that in the delicate t',\n",
       " 'This is the hour of test and trial for America. By her prowess an',\n",
       " 'I have not so much laid before you a series of recommendations, g',\n",
       " 'May I not express the very real pleas-are I have experienced in c',\n",
       " 'I close, as I began, by reminding you of the great tasks and duti',\n",
       " 'For what we are seeking now, what in my mind is the single though',\n",
       " 'Inasmuch as this is, gentlemen , probably the last occasion I sha',\n",
       " 'I have thus, in a message compressed as much as the subjects will',\n",
       " 'Except as above, I do not recommend any amendment to the intersta',\n",
       " 'I wish to renew again my recommendation that all the local office',\n",
       " 'The construction of the Lincoln Memorial and of a memorial bridge',\n",
       " 'Suitable provision should be made for the expense of keeping our ',\n",
       " 'The Congress has most wisely provided for a National Board for th',\n",
       " 'One of the results of the Pan American Conference at Rio Janeiro ',\n",
       " 'Nothing better for the Navy from every standpoint has ever occurr',\n",
       " 'The death of Queen Victoria caused the people of the United State',\n",
       " 'Through a wise provision of the Congress at its last session the ',\n",
       " 'By the provisions of the treaty the United States guarantees and ',\n",
       " 'Every measure taken concerning the islands should be taken primar',\n",
       " 'The estimates of the expenses of the Government by the several De',\n",
       " 'The several departmental reports will be laid before you. They gi',\n",
       " 'Presented to this Congress are great opportunities. With them com',\n",
       " 'In our great prosperity we must guard against the danger it invit',\n",
       " 'In conclusion my intense feeling of responsibility impels me to i',\n",
       " 'I conclude this communication fully appreciating that the respons',\n",
       " \"In conclusion I especially entreat the people's representatives i\",\n",
       " 'When our differences are forgotten and our contests of political ',\n",
       " 'The legislation which I have suggested, it is sincerely believed,',\n",
       " 'I venture again to remind you that the brief time remaining for t',\n",
       " 'I have been greatly rejoiced to notice many evidences of the incr',\n",
       " 'This exhibit of the work of the Executive Departments is submitte',\n",
       " 'In conclusion I commend to the wise care and thoughtful attention',\n",
       " 'In conclusion I earnestly invoke such wise action on the part of ',\n",
       " 'As the law makes no provision for any report from the Department ',\n",
       " 'As public servants we shall do our duty well if we constantly gua',\n",
       " 'Deeply impressed with the gravity of the responsibilities which h',\n",
       " 'The closing year has been replete with blessings, for which we ow',\n",
       " 'Any legislation whereby Congress may lawfully supplement the guar',\n",
       " 'And to my fellow-citizens generally I acknowledge a deep sense of',\n",
       " 'The capital of the nation should be something more than a mere po',\n",
       " 'Sufficient time has, perhaps, not elapsed since the reorganizatio',\n",
       " 'I also invite the favorable consideration of Congress to the want',\n",
       " 'The water supply of the city is inadequate. In addition to the or',\n",
       " 'I suggest for your consideration the enactment of a law to better',\n",
       " 'In accordance with section 3, act approved June 23, 1874, I appoi',\n",
       " 'Believing that these views will commend themselves to the great m',\n",
       " 'I do not present these views now as a recommendation for a renewa',\n",
       " 'There are many subjects not alluded to in this message which migh',\n",
       " 'In conclusion I would sum up the policy of the Administration to ',\n",
       " 'I have thus hastily summed up the operations of the Government du',\n",
       " 'An earnest desire has been felt to correct abuses which have grow',\n",
       " 'Where in past history. does a parallel exist to the public happin',\n",
       " 'In the performance of a duty imposed upon me by the Constitution ',\n",
       " 'The abuse of our laws by the clandestine prosecution of the Afric',\n",
       " 'In the performance of a duty imposed upon me by the Constitution,',\n",
       " 'From the first taking of our national census to the last are seve',\n",
       " 'Fellow-citizens, we can not escape history. We of this Congress a',\n",
       " 'The movements by State action for emancipation in several of the ',\n",
       " 'A year ago general pardon and amnesty, upon specified terms, were',\n",
       " 'I can not conclude without commending to your favorable considera',\n",
       " 'I can not conclude without performing the agreeable duty of expre',\n",
       " 'In conclusion I would again commend to the just liberality of Con',\n",
       " 'I cordially commend to your favorable regard the interests of the',\n",
       " 'In compliance with the act of Congress of March 2, 1853, the oath',\n",
       " 'Under the solemnity of these convictions the blessing of Almighty',\n",
       " 'Nor is it hostility against their fellow-citizens of one section ',\n",
       " 'I shall prepare to surrender the Executive trust to my successor ',\n",
       " 'Our liberties, religions and civil, have been maintained, the fou',\n",
       " 'In my last annual message I stated that I considered the series o',\n",
       " 'We owe these blessings, under Heaven, to the happy Constitution a',\n",
       " 'But attachment to the Union of the States should be habitually fo',\n",
       " 'I trust it may not be deemed inappropriate to the occasion for me',\n",
       " 'With full reliance upon the wisdom and patriotism of your deliber',\n",
       " 'Invoking the blessing of the Almighty Ruler of the Universe upon ',\n",
       " 'Invoking the blessings of the Almighty upon your deliberations at',\n",
       " 'In conclusion I commend to your care the interests of this Distri',\n",
       " 'I have thus, fellow-citizens, acquitted myself of my duty under t',\n",
       " 'In this condition of things I have felt it to be my duty to bring',\n",
       " 'I have thus, gentlemen of the two Houses of Congress, presented y',\n",
       " 'Your attention has heretofore been frequently called to the affai',\n",
       " 'Whatever difference of opinion may exist as to the expediency of ',\n",
       " 'My own exertions for the furtherance of these desirable objects h',\n",
       " 'Supplies of provisions, water casks, merchandise, and articles co',\n",
       " 'Trusting that your deliberations on all the topics of general int',\n",
       " 'I am not hostile to internal improvements, and wish to see them e',\n",
       " 'With these observations on the topics of general interest which a',\n",
       " 'Having now finished the observations deemed proper on this the la',\n",
       " 'I now commend you, fellow citizens, to the guidance of Almighty G',\n",
       " 'In conclusion, fellow citizens, allow me to invoke in behalf of y',\n",
       " 'In conclusion permit me to invoke that Power which superintends a',\n",
       " 'Limited to a general superintending power to maintain peace at ho',\n",
       " 'Finally, fellow citizens, I shall await with cheering hope and fa',\n",
       " 'If we turn our thoughts to the condition of their country, in the',\n",
       " 'Of the lands sold, a considerable part were conveyed under extend',\n",
       " 'In closing this communication it only remains for me to assure th',\n",
       " 'Deeply impressed with the blessings which we enjoy, and of which ',\n",
       " 'I have full confidence that this charge so far as relates to the ',\n",
       " 'It is unnecessary to treat here of the vast improvement made in t',\n",
       " 'I can not conclude this communication, the last of the kind which',\n",
       " 'JAMES MONROE',\n",
       " 'When we view the great blessings with which our country has been ',\n",
       " 'In the execution of the duty imposed by these acts, and of a high',\n",
       " 'Our peace with the powers on the coast of Barbary has been preser',\n",
       " 'In fine, the war, with all its vicissitudes, is illustrating the ',\n",
       " 'Having forborne to declare war until to other aggressions had bee',\n",
       " 'In all measures having such objects my faithful cooperation will ',\n",
       " 'These contemplations, sweetening the remnant of my days, will ani',\n",
       " 'Recollecting always that for every advantage which may contribute',\n",
       " 'Reserving for future occasions in the course of the session whate',\n",
       " 'I can not close this communication without expressing my deep sen',\n",
       " 'It remains only that, faithful to ourselves, entangled in no conn',\n",
       " 'In the course of your session you shall receive all the aid which',\n",
       " 'This, fellow citizens, is the state of the public interests at th',\n",
       " 'Matters of minor importance will be the subjects of future commun',\n",
       " 'Availing myself of this the last occasion which will occur of add',\n",
       " 'The prudence and temperance of your discussions will promote with',\n",
       " 'By continuing to make these the rule of our action we shall endea',\n",
       " 'How desirable, then, must it be in a Government like ours to see ',\n",
       " 'Whether the great interests of agriculture, manufactures, commerc',\n",
       " 'In all such measures you may rely on my zealous and hearty concur',\n",
       " 'I can not close this address without once more adverting to our p',\n",
       " 'At a period like the present, when momentous changes are occurrin',\n",
       " 'To your patriotism, gentlemen, has been confided the honorable du',\n",
       " 'The several subjects to which I have now referred open a wide ran',\n",
       " 'Let us unite, therefore, in imploring the Supreme Ruler of Nation',\n",
       " 'Temperate discussion of the important subjects which may arise in',\n",
       " 'The situation in which I now stand for the last time, in the mids',\n",
       " 'The welfare of our country is the great object to which our cares',\n",
       " 'in pursuing the various and weighty business of the present sessi',\n",
       " 'A provision for the sale of the vacant lands of the United States',\n",
       " 'Still further to promote and secure these inestimable ends there ']"
      ]
     },
     "execution_count": 18,
     "metadata": {},
     "output_type": "execute_result"
    }
   ],
   "source": [
    "# making sure that there are no single trail values that still need removing\n",
    "\n",
    "[x[-1][:65] for x in speeches_trimmed]"
   ]
  },
  {
   "cell_type": "code",
   "execution_count": 19,
   "metadata": {},
   "outputs": [],
   "source": [
    "# Joining all paragraphs within each speech to form full speeches\n",
    "\n",
    "speeches_joined = []\n",
    "\n",
    "for speech in speeches_trimmed:\n",
    "    speeches_joined.append(' \\n '.join(speech))"
   ]
  },
  {
   "cell_type": "code",
   "execution_count": 20,
   "metadata": {},
   "outputs": [
    {
     "name": "stdout",
     "output_type": "stream",
     "text": [
      "29267\n",
      "<class 'str'>\n"
     ]
    }
   ],
   "source": [
    "# making sure speeches were joined sucessfully - no longer list of lists - one string speech only\n",
    "\n",
    "print(len(speeches_joined[0]))\n",
    "print(type(speeches_joined[0]))"
   ]
  },
  {
   "cell_type": "code",
   "execution_count": 21,
   "metadata": {},
   "outputs": [
    {
     "data": {
      "text/plain": [
       "'#nixon1973'"
      ]
     },
     "execution_count": 21,
     "metadata": {},
     "output_type": "execute_result"
    }
   ],
   "source": [
    "# removing record that did not have a URL so df can be rejoined with speech data\n",
    "\n",
    "sotu_speeches['Speech'][51]"
   ]
  },
  {
   "cell_type": "code",
   "execution_count": 22,
   "metadata": {},
   "outputs": [],
   "source": [
    "sotu_speeches.drop(index = 51, inplace = True)"
   ]
  },
  {
   "cell_type": "code",
   "execution_count": 23,
   "metadata": {},
   "outputs": [],
   "source": [
    "# renaming Speech to URL to avoid confusion upon joining with speech data\n",
    "\n",
    "sotu_speeches.rename(columns = {'Speech' : 'URL'}, inplace = True)"
   ]
  },
  {
   "cell_type": "code",
   "execution_count": 24,
   "metadata": {},
   "outputs": [
    {
     "data": {
      "text/html": [
       "<div>\n",
       "<style scoped>\n",
       "    .dataframe tbody tr th:only-of-type {\n",
       "        vertical-align: middle;\n",
       "    }\n",
       "\n",
       "    .dataframe tbody tr th {\n",
       "        vertical-align: top;\n",
       "    }\n",
       "\n",
       "    .dataframe thead th {\n",
       "        text-align: right;\n",
       "    }\n",
       "</style>\n",
       "<table border=\"1\" class=\"dataframe\">\n",
       "  <thead>\n",
       "    <tr style=\"text-align: right;\">\n",
       "      <th></th>\n",
       "      <th>President</th>\n",
       "      <th>URL</th>\n",
       "      <th>Year</th>\n",
       "      <th>Text</th>\n",
       "    </tr>\n",
       "  </thead>\n",
       "  <tbody>\n",
       "    <tr>\n",
       "      <th>0</th>\n",
       "      <td>Donald J. Trump</td>\n",
       "      <td>https://www.presidency.ucsb.edu/ws/index.php?p...</td>\n",
       "      <td>2017</td>\n",
       "      <td>Thank you very much. Mr. Speaker, Mr. Vice Pre...</td>\n",
       "    </tr>\n",
       "    <tr>\n",
       "      <th>1</th>\n",
       "      <td>Donald J. Trump</td>\n",
       "      <td>https://www.presidency.ucsb.edu/documents/addr...</td>\n",
       "      <td>2018</td>\n",
       "      <td>The President. Mr. Speaker, Mr. Vice President...</td>\n",
       "    </tr>\n",
       "  </tbody>\n",
       "</table>\n",
       "</div>"
      ],
      "text/plain": [
       "         President                                                URL  Year  \\\n",
       "0  Donald J. Trump  https://www.presidency.ucsb.edu/ws/index.php?p...  2017   \n",
       "1  Donald J. Trump  https://www.presidency.ucsb.edu/documents/addr...  2018   \n",
       "\n",
       "                                                Text  \n",
       "0  Thank you very much. Mr. Speaker, Mr. Vice Pre...  \n",
       "1  The President. Mr. Speaker, Mr. Vice President...  "
      ]
     },
     "execution_count": 24,
     "metadata": {},
     "output_type": "execute_result"
    }
   ],
   "source": [
    "# adding speeches\n",
    "\n",
    "sotu_speeches['Text'] = speeches_joined\n",
    "sotu_speeches.head(2)"
   ]
  },
  {
   "cell_type": "code",
   "execution_count": 25,
   "metadata": {},
   "outputs": [],
   "source": [
    "# adding speech length column\n",
    "\n",
    "sotu_speeches['Speech_length'] = [len(x) for x in sotu_speeches['Text']]"
   ]
  },
  {
   "cell_type": "code",
   "execution_count": 26,
   "metadata": {},
   "outputs": [
    {
     "data": {
      "text/plain": [
       "['1956‡']"
      ]
     },
     "execution_count": 26,
     "metadata": {},
     "output_type": "execute_result"
    }
   ],
   "source": [
    "# addressing datetime conversion issues\n",
    "\n",
    "[x for x in sotu_speeches['Year'] if len(x) > 4] "
   ]
  },
  {
   "cell_type": "code",
   "execution_count": 27,
   "metadata": {},
   "outputs": [
    {
     "data": {
      "text/html": [
       "<div>\n",
       "<style scoped>\n",
       "    .dataframe tbody tr th:only-of-type {\n",
       "        vertical-align: middle;\n",
       "    }\n",
       "\n",
       "    .dataframe tbody tr th {\n",
       "        vertical-align: top;\n",
       "    }\n",
       "\n",
       "    .dataframe thead th {\n",
       "        text-align: right;\n",
       "    }\n",
       "</style>\n",
       "<table border=\"1\" class=\"dataframe\">\n",
       "  <thead>\n",
       "    <tr style=\"text-align: right;\">\n",
       "      <th></th>\n",
       "      <th>President</th>\n",
       "      <th>URL</th>\n",
       "      <th>Year</th>\n",
       "      <th>Text</th>\n",
       "      <th>Speech_length</th>\n",
       "    </tr>\n",
       "  </thead>\n",
       "  <tbody>\n",
       "    <tr>\n",
       "      <th>74</th>\n",
       "      <td>Dwight D. Eisenhower</td>\n",
       "      <td>https://www.presidency.ucsb.edu/ws/index.php?p...</td>\n",
       "      <td>1956‡</td>\n",
       "      <td>[Recorded on film and tape and broadcast the s...</td>\n",
       "      <td>6271</td>\n",
       "    </tr>\n",
       "  </tbody>\n",
       "</table>\n",
       "</div>"
      ],
      "text/plain": [
       "               President                                                URL  \\\n",
       "74  Dwight D. Eisenhower  https://www.presidency.ucsb.edu/ws/index.php?p...   \n",
       "\n",
       "     Year                                               Text  Speech_length  \n",
       "74  1956‡  [Recorded on film and tape and broadcast the s...           6271  "
      ]
     },
     "execution_count": 27,
     "metadata": {},
     "output_type": "execute_result"
    }
   ],
   "source": [
    "sotu_speeches[sotu_speeches['Year'] == '1956‡']"
   ]
  },
  {
   "cell_type": "code",
   "execution_count": 28,
   "metadata": {},
   "outputs": [],
   "source": [
    "sotu_speeches.loc[74 , 'Year'] = '1956'"
   ]
  },
  {
   "cell_type": "code",
   "execution_count": 29,
   "metadata": {},
   "outputs": [
    {
     "data": {
      "text/html": [
       "<div>\n",
       "<style scoped>\n",
       "    .dataframe tbody tr th:only-of-type {\n",
       "        vertical-align: middle;\n",
       "    }\n",
       "\n",
       "    .dataframe tbody tr th {\n",
       "        vertical-align: top;\n",
       "    }\n",
       "\n",
       "    .dataframe thead th {\n",
       "        text-align: right;\n",
       "    }\n",
       "</style>\n",
       "<table border=\"1\" class=\"dataframe\">\n",
       "  <thead>\n",
       "    <tr style=\"text-align: right;\">\n",
       "      <th></th>\n",
       "      <th>President</th>\n",
       "      <th>URL</th>\n",
       "      <th>Year</th>\n",
       "      <th>Text</th>\n",
       "      <th>Speech_length</th>\n",
       "    </tr>\n",
       "  </thead>\n",
       "  <tbody>\n",
       "  </tbody>\n",
       "</table>\n",
       "</div>"
      ],
      "text/plain": [
       "Empty DataFrame\n",
       "Columns: [President, URL, Year, Text, Speech_length]\n",
       "Index: []"
      ]
     },
     "execution_count": 29,
     "metadata": {},
     "output_type": "execute_result"
    }
   ],
   "source": [
    "sotu_speeches[sotu_speeches['Year'] == '1956‡']"
   ]
  },
  {
   "cell_type": "code",
   "execution_count": 30,
   "metadata": {},
   "outputs": [
    {
     "data": {
      "text/html": [
       "<div>\n",
       "<style scoped>\n",
       "    .dataframe tbody tr th:only-of-type {\n",
       "        vertical-align: middle;\n",
       "    }\n",
       "\n",
       "    .dataframe tbody tr th {\n",
       "        vertical-align: top;\n",
       "    }\n",
       "\n",
       "    .dataframe thead th {\n",
       "        text-align: right;\n",
       "    }\n",
       "</style>\n",
       "<table border=\"1\" class=\"dataframe\">\n",
       "  <thead>\n",
       "    <tr style=\"text-align: right;\">\n",
       "      <th></th>\n",
       "      <th>President</th>\n",
       "      <th>URL</th>\n",
       "      <th>Year</th>\n",
       "      <th>Text</th>\n",
       "      <th>Speech_length</th>\n",
       "    </tr>\n",
       "  </thead>\n",
       "  <tbody>\n",
       "    <tr>\n",
       "      <th>76</th>\n",
       "      <td>Dwight D. Eisenhower</td>\n",
       "      <td>https://www.presidency.ucsb.edu/ws/index.php?p...</td>\n",
       "      <td>‡</td>\n",
       "      <td>[Recorded on film and tape and broadcast the s...</td>\n",
       "      <td>6271</td>\n",
       "    </tr>\n",
       "    <tr>\n",
       "      <th>86</th>\n",
       "      <td>Franklin D. Roosevelt</td>\n",
       "      <td>https://www.presidency.ucsb.edu/ws/index.php?p...</td>\n",
       "      <td>‡</td>\n",
       "      <td>[Recorded on film and tape and broadcast the s...</td>\n",
       "      <td>6271</td>\n",
       "    </tr>\n",
       "    <tr>\n",
       "      <th>88</th>\n",
       "      <td>Franklin D. Roosevelt</td>\n",
       "      <td>https://www.presidency.ucsb.edu/ws/index.php?p...</td>\n",
       "      <td>‡</td>\n",
       "      <td>[Recorded on film and tape and broadcast the s...</td>\n",
       "      <td>6271</td>\n",
       "    </tr>\n",
       "  </tbody>\n",
       "</table>\n",
       "</div>"
      ],
      "text/plain": [
       "                President                                                URL  \\\n",
       "76   Dwight D. Eisenhower  https://www.presidency.ucsb.edu/ws/index.php?p...   \n",
       "86  Franklin D. Roosevelt  https://www.presidency.ucsb.edu/ws/index.php?p...   \n",
       "88  Franklin D. Roosevelt  https://www.presidency.ucsb.edu/ws/index.php?p...   \n",
       "\n",
       "   Year                                               Text  Speech_length  \n",
       "76    ‡  [Recorded on film and tape and broadcast the s...           6271  \n",
       "86    ‡  [Recorded on film and tape and broadcast the s...           6271  \n",
       "88    ‡  [Recorded on film and tape and broadcast the s...           6271  "
      ]
     },
     "execution_count": 30,
     "metadata": {},
     "output_type": "execute_result"
    }
   ],
   "source": [
    "sotu_speeches[sotu_speeches['Year'] == '‡']"
   ]
  },
  {
   "cell_type": "code",
   "execution_count": 31,
   "metadata": {},
   "outputs": [],
   "source": [
    "# dropping recording records of speeches (unwanted data)\n",
    "\n",
    "sotu_speeches.drop(index = [76 , 86, 88], inplace = True)"
   ]
  },
  {
   "cell_type": "code",
   "execution_count": 32,
   "metadata": {},
   "outputs": [],
   "source": [
    "# converting to datetime and sorting by date\n",
    "\n",
    "sotu_speeches['Year'] = [x.year for x in pd.to_datetime(sotu_speeches['Year'])]"
   ]
  },
  {
   "cell_type": "code",
   "execution_count": 33,
   "metadata": {},
   "outputs": [],
   "source": [
    "sotu_speeches.sort_values('Year', ascending = True, inplace = True)"
   ]
  },
  {
   "cell_type": "code",
   "execution_count": 57,
   "metadata": {},
   "outputs": [
    {
     "data": {
      "image/png": "[encoded data removed]",
      "text/plain": [
       "<Figure size 432x288 with 1 Axes>"
      ]
     },
     "metadata": {
      "needs_background": "light"
     },
     "output_type": "display_data"
    }
   ],
   "source": [
    "sns.distplot(sotu_speeches['Speech_length'])\n",
    "plt.xlabel('Document Length')\n",
    "plt.ylabel('Frequency')\n",
    "plt.title('Document Length Frequency');"
   ]
  },
  {
   "cell_type": "code",
   "execution_count": 34,
   "metadata": {},
   "outputs": [
    {
     "data": {
      "image/png": "[encoded data removed]",
      "text/plain": [
       "<Figure size 1080x648 with 1 Axes>"
      ]
     },
     "metadata": {
      "needs_background": "light"
     },
     "output_type": "display_data"
    }
   ],
   "source": [
    "# plotting speech length against date\n",
    "\n",
    "plt.figure(figsize = (15, 9))\n",
    "plt.plot(sotu_speeches['Year'], sotu_speeches['Speech_length'], label = 'Speech Length (characters)')\n",
    "plt.xticks(size = 20)\n",
    "plt.yticks(size = 20)\n",
    "plt.xlabel('Year', size = 20)\n",
    "plt.ylabel('Speech Length', size = 20)\n",
    "plt.locator_params(axis='y', nbins=10)\n",
    "plt.locator_params(axis='x', nbins=6)\n",
    "plt.title('Total Length per Speech', size= 24)\n",
    "plt.tight_layout();"
   ]
  },
  {
   "cell_type": "code",
   "execution_count": 35,
   "metadata": {},
   "outputs": [
    {
     "data": {
      "text/html": [
       "<div>\n",
       "<style scoped>\n",
       "    .dataframe tbody tr th:only-of-type {\n",
       "        vertical-align: middle;\n",
       "    }\n",
       "\n",
       "    .dataframe tbody tr th {\n",
       "        vertical-align: top;\n",
       "    }\n",
       "\n",
       "    .dataframe thead th {\n",
       "        text-align: right;\n",
       "    }\n",
       "</style>\n",
       "<table border=\"1\" class=\"dataframe\">\n",
       "  <thead>\n",
       "    <tr style=\"text-align: right;\">\n",
       "      <th></th>\n",
       "      <th>President</th>\n",
       "      <th>Year</th>\n",
       "      <th>Text</th>\n",
       "    </tr>\n",
       "  </thead>\n",
       "  <tbody>\n",
       "    <tr>\n",
       "      <th>241</th>\n",
       "      <td>George Washington</td>\n",
       "      <td>1790</td>\n",
       "      <td>Fellow-Citizens of the Senate and House of Rep...</td>\n",
       "    </tr>\n",
       "    <tr>\n",
       "      <th>240</th>\n",
       "      <td>George Washington</td>\n",
       "      <td>1790</td>\n",
       "      <td>Fellow-Citizens of the Senate and House of Rep...</td>\n",
       "    </tr>\n",
       "  </tbody>\n",
       "</table>\n",
       "</div>"
      ],
      "text/plain": [
       "             President  Year  \\\n",
       "241  George Washington  1790   \n",
       "240  George Washington  1790   \n",
       "\n",
       "                                                  Text  \n",
       "241  Fellow-Citizens of the Senate and House of Rep...  \n",
       "240  Fellow-Citizens of the Senate and House of Rep...  "
      ]
     },
     "execution_count": 35,
     "metadata": {},
     "output_type": "execute_result"
    }
   ],
   "source": [
    "# selecting analysis columns\n",
    "\n",
    "sotu_formatted = sotu_speeches[['President', 'Year', 'Text']]\n",
    "sotu_formatted.head(2)"
   ]
  },
  {
   "cell_type": "code",
   "execution_count": 36,
   "metadata": {},
   "outputs": [
    {
     "data": {
      "text/plain": [
       "President    object\n",
       "Year          int64\n",
       "Text         object\n",
       "dtype: object"
      ]
     },
     "execution_count": 36,
     "metadata": {},
     "output_type": "execute_result"
    }
   ],
   "source": [
    "sotu_formatted.dtypes"
   ]
  },
  {
   "cell_type": "code",
   "execution_count": 37,
   "metadata": {},
   "outputs": [],
   "source": [
    "# exporting to CSV\n",
    "\n",
    "sotu_formatted.to_csv('../data/prediction_data/formatted_pred_data/sotu_formatted.csv', index = False)"
   ]
  },
  {
   "cell_type": "markdown",
   "metadata": {},
   "source": [
    "***Supreme Court Decisions***"
   ]
  },
  {
   "cell_type": "code",
   "execution_count": 38,
   "metadata": {},
   "outputs": [
    {
     "data": {
      "text/html": [
       "<div>\n",
       "<style scoped>\n",
       "    .dataframe tbody tr th:only-of-type {\n",
       "        vertical-align: middle;\n",
       "    }\n",
       "\n",
       "    .dataframe tbody tr th {\n",
       "        vertical-align: top;\n",
       "    }\n",
       "\n",
       "    .dataframe thead th {\n",
       "        text-align: right;\n",
       "    }\n",
       "</style>\n",
       "<table border=\"1\" class=\"dataframe\">\n",
       "  <thead>\n",
       "    <tr style=\"text-align: right;\">\n",
       "      <th></th>\n",
       "      <th>author_name</th>\n",
       "      <th>category</th>\n",
       "      <th>per_curiam</th>\n",
       "      <th>case_name</th>\n",
       "      <th>date_filed</th>\n",
       "      <th>federal_cite_one</th>\n",
       "      <th>absolute_url</th>\n",
       "      <th>cluster</th>\n",
       "      <th>year_filed</th>\n",
       "      <th>scdb_id</th>\n",
       "      <th>scdb_decision_direction</th>\n",
       "      <th>scdb_votes_majority</th>\n",
       "      <th>scdb_votes_minority</th>\n",
       "      <th>text</th>\n",
       "    </tr>\n",
       "  </thead>\n",
       "  <tbody>\n",
       "    <tr>\n",
       "      <th>0</th>\n",
       "      <td>justice roberts</td>\n",
       "      <td>majority</td>\n",
       "      <td>False</td>\n",
       "      <td>McCutcheon v. Federal Election Comm'n</td>\n",
       "      <td>2014-04-02</td>\n",
       "      <td>134 S. Ct. 1434</td>\n",
       "      <td>https://www.courtlistener.com/opinion/2659301/...</td>\n",
       "      <td>https://www.courtlistener.com/api/rest/v3/clus...</td>\n",
       "      <td>2014</td>\n",
       "      <td>2013-033</td>\n",
       "      <td>1.0</td>\n",
       "      <td>5.0</td>\n",
       "      <td>4.0</td>\n",
       "      <td>There is no right more basic in our democracy ...</td>\n",
       "    </tr>\n",
       "    <tr>\n",
       "      <th>1</th>\n",
       "      <td>justice thomas</td>\n",
       "      <td>concurring</td>\n",
       "      <td>False</td>\n",
       "      <td>McCutcheon v. Federal Election Comm'n</td>\n",
       "      <td>2014-04-02</td>\n",
       "      <td>134 S. Ct. 1434</td>\n",
       "      <td>https://www.courtlistener.com/opinion/2659301/...</td>\n",
       "      <td>https://www.courtlistener.com/api/rest/v3/clus...</td>\n",
       "      <td>2014</td>\n",
       "      <td>2013-033</td>\n",
       "      <td>1.0</td>\n",
       "      <td>5.0</td>\n",
       "      <td>4.0</td>\n",
       "      <td>I adhere to the view that this Courtâ€™s decis...</td>\n",
       "    </tr>\n",
       "  </tbody>\n",
       "</table>\n",
       "</div>"
      ],
      "text/plain": [
       "       author_name    category  per_curiam  \\\n",
       "0  justice roberts    majority       False   \n",
       "1   justice thomas  concurring       False   \n",
       "\n",
       "                               case_name  date_filed federal_cite_one  \\\n",
       "0  McCutcheon v. Federal Election Comm'n  2014-04-02  134 S. Ct. 1434   \n",
       "1  McCutcheon v. Federal Election Comm'n  2014-04-02  134 S. Ct. 1434   \n",
       "\n",
       "                                        absolute_url  \\\n",
       "0  https://www.courtlistener.com/opinion/2659301/...   \n",
       "1  https://www.courtlistener.com/opinion/2659301/...   \n",
       "\n",
       "                                             cluster  year_filed   scdb_id  \\\n",
       "0  https://www.courtlistener.com/api/rest/v3/clus...        2014  2013-033   \n",
       "1  https://www.courtlistener.com/api/rest/v3/clus...        2014  2013-033   \n",
       "\n",
       "   scdb_decision_direction  scdb_votes_majority  scdb_votes_minority  \\\n",
       "0                      1.0                  5.0                  4.0   \n",
       "1                      1.0                  5.0                  4.0   \n",
       "\n",
       "                                                text  \n",
       "0  There is no right more basic in our democracy ...  \n",
       "1  I adhere to the view that this Courtâ€™s decis...  "
      ]
     },
     "execution_count": 38,
     "metadata": {},
     "output_type": "execute_result"
    }
   ],
   "source": [
    "# importing dataset and checking document lengths (had to adjust system params for this import due to size)\n",
    "\n",
    "court = pd.read_csv('../data/prediction_data/raw_pred_data/supreme_court_decisions.csv', engine = 'python')\n",
    "court.head(2)"
   ]
  },
  {
   "cell_type": "code",
   "execution_count": 39,
   "metadata": {},
   "outputs": [
    {
     "data": {
      "image/png": "[encoded data removed]",
      "text/plain": [
       "<Figure size 432x288 with 1 Axes>"
      ]
     },
     "metadata": {
      "needs_background": "light"
     },
     "output_type": "display_data"
    }
   ],
   "source": [
    "court_lengths = []\n",
    "for text in court['text']:\n",
    "    court_lengths.append(len(text))\n",
    "    \n",
    "sns.distplot([x for x in court_lengths if x < 80000])\n",
    "plt.xlabel('Document Length')\n",
    "plt.ylabel('Frequency')\n",
    "plt.title('Document Length Frequency');"
   ]
  },
  {
   "cell_type": "code",
   "execution_count": 40,
   "metadata": {},
   "outputs": [
    {
     "data": {
      "text/plain": [
       "(34878, 14)"
      ]
     },
     "execution_count": 40,
     "metadata": {},
     "output_type": "execute_result"
    }
   ],
   "source": [
    "court.shape"
   ]
  },
  {
   "cell_type": "code",
   "execution_count": 41,
   "metadata": {},
   "outputs": [],
   "source": [
    "# selecting analysis columns and converting to datetime\n",
    "\n",
    "court_formatted = court[['author_name', 'date_filed', 'scdb_decision_direction', 'scdb_votes_majority', 'scdb_votes_minority', 'text']]"
   ]
  },
  {
   "cell_type": "code",
   "execution_count": 42,
   "metadata": {},
   "outputs": [
    {
     "name": "stderr",
     "output_type": "stream",
     "text": [
      "C:\\Users\\griff\\anaconda3\\lib\\site-packages\\ipykernel_launcher.py:1: SettingWithCopyWarning: \n",
      "A value is trying to be set on a copy of a slice from a DataFrame.\n",
      "Try using .loc[row_indexer,col_indexer] = value instead\n",
      "\n",
      "See the caveats in the documentation: https://pandas.pydata.org/pandas-docs/stable/user_guide/indexing.html#returning-a-view-versus-a-copy\n",
      "  \"\"\"Entry point for launching an IPython kernel.\n"
     ]
    }
   ],
   "source": [
    "court_formatted['date_filed'] = pd.to_datetime(court_formatted['date_filed'])"
   ]
  },
  {
   "cell_type": "code",
   "execution_count": 43,
   "metadata": {},
   "outputs": [
    {
     "data": {
      "text/plain": [
       "author_name                        object\n",
       "date_filed                 datetime64[ns]\n",
       "scdb_decision_direction           float64\n",
       "scdb_votes_majority               float64\n",
       "scdb_votes_minority               float64\n",
       "text                               object\n",
       "dtype: object"
      ]
     },
     "execution_count": 43,
     "metadata": {},
     "output_type": "execute_result"
    }
   ],
   "source": [
    "court_formatted.dtypes"
   ]
  },
  {
   "cell_type": "code",
   "execution_count": 44,
   "metadata": {},
   "outputs": [],
   "source": [
    "# exporting to CSV\n",
    "\n",
    "court_formatted.to_csv('../data/prediction_data/formatted_pred_data/court_formatted.csv', index = False)"
   ]
  },
  {
   "cell_type": "markdown",
   "metadata": {},
   "source": [
    "***DOJ Press Releases***"
   ]
  },
  {
   "cell_type": "code",
   "execution_count": 45,
   "metadata": {},
   "outputs": [
    {
     "data": {
      "text/html": [
       "<div>\n",
       "<style scoped>\n",
       "    .dataframe tbody tr th:only-of-type {\n",
       "        vertical-align: middle;\n",
       "    }\n",
       "\n",
       "    .dataframe tbody tr th {\n",
       "        vertical-align: top;\n",
       "    }\n",
       "\n",
       "    .dataframe thead th {\n",
       "        text-align: right;\n",
       "    }\n",
       "</style>\n",
       "<table border=\"1\" class=\"dataframe\">\n",
       "  <thead>\n",
       "    <tr style=\"text-align: right;\">\n",
       "      <th></th>\n",
       "      <th>id</th>\n",
       "      <th>title</th>\n",
       "      <th>contents</th>\n",
       "      <th>date</th>\n",
       "      <th>topics</th>\n",
       "      <th>components</th>\n",
       "    </tr>\n",
       "  </thead>\n",
       "  <tbody>\n",
       "    <tr>\n",
       "      <th>0</th>\n",
       "      <td>None</td>\n",
       "      <td>Convicted Bomb Plotter Sentenced to 30 Years</td>\n",
       "      <td>PORTLAND, Oregon. – Mohamed Osman Mohamud, 23,...</td>\n",
       "      <td>2014-10-01T00:00:00-04:00</td>\n",
       "      <td>[]</td>\n",
       "      <td>[National Security Division (NSD)]</td>\n",
       "    </tr>\n",
       "    <tr>\n",
       "      <th>1</th>\n",
       "      <td>12-919</td>\n",
       "      <td>$1 Million in Restitution Payments Announced t...</td>\n",
       "      <td>WASHINGTON – North Carolina’s Waccamaw River...</td>\n",
       "      <td>2012-07-25T00:00:00-04:00</td>\n",
       "      <td>[]</td>\n",
       "      <td>[Environment and Natural Resources Division]</td>\n",
       "    </tr>\n",
       "  </tbody>\n",
       "</table>\n",
       "</div>"
      ],
      "text/plain": [
       "        id                                              title  \\\n",
       "0     None       Convicted Bomb Plotter Sentenced to 30 Years   \n",
       "1  12-919   $1 Million in Restitution Payments Announced t...   \n",
       "\n",
       "                                            contents  \\\n",
       "0  PORTLAND, Oregon. – Mohamed Osman Mohamud, 23,...   \n",
       "1    WASHINGTON – North Carolina’s Waccamaw River...   \n",
       "\n",
       "                        date topics  \\\n",
       "0  2014-10-01T00:00:00-04:00     []   \n",
       "1  2012-07-25T00:00:00-04:00     []   \n",
       "\n",
       "                                     components  \n",
       "0            [National Security Division (NSD)]  \n",
       "1  [Environment and Natural Resources Division]  "
      ]
     },
     "execution_count": 45,
     "metadata": {},
     "output_type": "execute_result"
    }
   ],
   "source": [
    "# importing and converting to datetime / selecting columns\n",
    "\n",
    "doj = pd.read_json('../data/prediction_data/raw_pred_data/doj_press_releases.json', lines = True)\n",
    "doj.head(2)"
   ]
  },
  {
   "cell_type": "code",
   "execution_count": 46,
   "metadata": {},
   "outputs": [],
   "source": [
    "doj['date'] = pd.to_datetime(doj['date'])"
   ]
  },
  {
   "cell_type": "code",
   "execution_count": 47,
   "metadata": {
    "scrolled": true
   },
   "outputs": [],
   "source": [
    "doj_formatted = doj[['title', 'contents', 'date']]"
   ]
  },
  {
   "cell_type": "code",
   "execution_count": 48,
   "metadata": {},
   "outputs": [
    {
     "data": {
      "text/html": [
       "<div>\n",
       "<style scoped>\n",
       "    .dataframe tbody tr th:only-of-type {\n",
       "        vertical-align: middle;\n",
       "    }\n",
       "\n",
       "    .dataframe tbody tr th {\n",
       "        vertical-align: top;\n",
       "    }\n",
       "\n",
       "    .dataframe thead th {\n",
       "        text-align: right;\n",
       "    }\n",
       "</style>\n",
       "<table border=\"1\" class=\"dataframe\">\n",
       "  <thead>\n",
       "    <tr style=\"text-align: right;\">\n",
       "      <th></th>\n",
       "      <th>title</th>\n",
       "      <th>contents</th>\n",
       "      <th>date</th>\n",
       "    </tr>\n",
       "  </thead>\n",
       "  <tbody>\n",
       "    <tr>\n",
       "      <th>0</th>\n",
       "      <td>Convicted Bomb Plotter Sentenced to 30 Years</td>\n",
       "      <td>PORTLAND, Oregon. – Mohamed Osman Mohamud, 23,...</td>\n",
       "      <td>2014-10-01 00:00:00-04:00</td>\n",
       "    </tr>\n",
       "    <tr>\n",
       "      <th>1</th>\n",
       "      <td>$1 Million in Restitution Payments Announced t...</td>\n",
       "      <td>WASHINGTON – North Carolina’s Waccamaw River...</td>\n",
       "      <td>2012-07-25 00:00:00-04:00</td>\n",
       "    </tr>\n",
       "    <tr>\n",
       "      <th>2</th>\n",
       "      <td>$1 Million Settlement Reached for Natural Reso...</td>\n",
       "      <td>BOSTON– A $1-million settlement has been...</td>\n",
       "      <td>2011-08-03 00:00:00-04:00</td>\n",
       "    </tr>\n",
       "  </tbody>\n",
       "</table>\n",
       "</div>"
      ],
      "text/plain": [
       "                                               title  \\\n",
       "0       Convicted Bomb Plotter Sentenced to 30 Years   \n",
       "1  $1 Million in Restitution Payments Announced t...   \n",
       "2  $1 Million Settlement Reached for Natural Reso...   \n",
       "\n",
       "                                            contents  \\\n",
       "0  PORTLAND, Oregon. – Mohamed Osman Mohamud, 23,...   \n",
       "1    WASHINGTON – North Carolina’s Waccamaw River...   \n",
       "2        BOSTON– A $1-million settlement has been...   \n",
       "\n",
       "                        date  \n",
       "0  2014-10-01 00:00:00-04:00  \n",
       "1  2012-07-25 00:00:00-04:00  \n",
       "2  2011-08-03 00:00:00-04:00  "
      ]
     },
     "execution_count": 48,
     "metadata": {},
     "output_type": "execute_result"
    }
   ],
   "source": [
    "doj_formatted.head(3)"
   ]
  },
  {
   "cell_type": "code",
   "execution_count": 55,
   "metadata": {},
   "outputs": [
    {
     "data": {
      "image/png": "[encoded data removed]",
      "text/plain": [
       "<Figure size 432x288 with 1 Axes>"
      ]
     },
     "metadata": {
      "needs_background": "light"
     },
     "output_type": "display_data"
    }
   ],
   "source": [
    "doj_lengths = []\n",
    "for text in [x for x in doj['contents'] if len(x) < 20000]:\n",
    "    doj_lengths.append(len(text))\n",
    "    \n",
    "sns.distplot(doj_lengths)\n",
    "plt.xlabel('Document Length')\n",
    "plt.ylabel('Frequency')\n",
    "plt.title('Document Length Frequency');"
   ]
  },
  {
   "cell_type": "code",
   "execution_count": 50,
   "metadata": {},
   "outputs": [],
   "source": [
    "# exporting to CSV\n",
    "\n",
    "doj_formatted.to_csv('../data/prediction_data/formatted_pred_data/doj_formatted.csv', index = False)"
   ]
  }
 ],
 "metadata": {
  "kernelspec": {
   "display_name": "Python 3",
   "language": "python",
   "name": "python3"
  },
  "language_info": {
   "codemirror_mode": {
    "name": "ipython",
    "version": 3
   },
   "file_extension": ".py",
   "mimetype": "text/x-python",
   "name": "python",
   "nbconvert_exporter": "python",
   "pygments_lexer": "ipython3",
   "version": "3.7.6"
  }
 },
 "nbformat": 4,
 "nbformat_minor": 4
}
