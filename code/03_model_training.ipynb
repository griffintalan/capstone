{
 "cells": [
  {
   "cell_type": "markdown",
   "metadata": {},
   "source": [
    "# Model Training"
   ]
  },
  {
   "cell_type": "code",
   "execution_count": 1,
   "metadata": {},
   "outputs": [],
   "source": [
    "import pandas as pd\n",
    "import numpy as np\n",
    "import matplotlib.pyplot as plt\n",
    "from gensim.models import KeyedVectors\n",
    "import gensim.utils\n",
    "import pickle\n",
    "from gensim.parsing.porter import PorterStemmer\n",
    "from gensim.models import Word2Vec\n",
    "from tensorflow.keras.models import Sequential\n",
    "from tensorflow.keras.layers import Dense, Dropout, GRU, Embedding, LSTM, Bidirectional\n",
    "from tensorflow.keras.optimizers import Adam\n",
    "from tensorflow.keras.preprocessing.text import Tokenizer\n",
    "from tensorflow.keras.preprocessing.sequence import pad_sequences\n",
    "from tensorflow.keras.models import save_model\n",
    "from nltk.corpus import stopwords\n",
    "from nltk.tokenize import word_tokenize\n",
    "from sklearn.model_selection import train_test_split\n",
    "from sklearn.preprocessing import StandardScaler\n",
    "from tensorflow.keras.callbacks import EarlyStopping\n",
    "from tensorflow.keras.callbacks import History\n",
    "from tensorflow.keras.utils import to_categorical\n",
    "import re"
   ]
  },
  {
   "cell_type": "markdown",
   "metadata": {},
   "source": [
    "***Data Imports and Function Definitions***"
   ]
  },
  {
   "cell_type": "code",
   "execution_count": 2,
   "metadata": {},
   "outputs": [],
   "source": [
    "# importing all possible training datasets - only subj_obj and uci_combined were used\n",
    "\n",
    "bbc1000 = pd.read_csv('../data/train_data/sentiment/6_human_coded_datasets_good/bbc_formatted.csv')\n",
    "news_articles = pd.read_csv('../data/train_data/sentiment/news_articles/news_formatted.csv')\n",
    "imdb = pd.read_csv('../data/train_data/sentiment/IMDB_good/imdb_formatted.csv')\n",
    "ideological = pd.read_csv('../data/train_data/ideology/IBC/ideological_formatted.csv')\n",
    "subj_obj = pd.read_csv('../data/train_data/subjectivity/subj_obj_formatted.csv')\n",
    "uci_combined = pd.read_csv('../data/train_data/sentiment/UCI/uci_combined.csv')"
   ]
  },
  {
   "cell_type": "code",
   "execution_count": 3,
   "metadata": {},
   "outputs": [],
   "source": [
    "# defining stop words\n",
    "\n",
    "stop_words = set([x.lower() for x in stopwords.words('english')])"
   ]
  },
  {
   "cell_type": "code",
   "execution_count": 4,
   "metadata": {},
   "outputs": [],
   "source": [
    "# defining preprocessing function\n",
    "\n",
    "def preprocess(data, stem_data, remove_stopwords):\n",
    "    processed = []\n",
    "    stemmer = PorterStemmer()\n",
    "    for file in data:\n",
    "        \n",
    "        # lowercasing all text\n",
    "        file = file.lower()\n",
    "        \n",
    "        # removing non-alpha characters\n",
    "        file = re.sub('[^a-zA-Z]', ' ', file)\n",
    "        \n",
    "        # tokenizing articles\n",
    "        tokenized = word_tokenize(file)\n",
    "        \n",
    "        # removing stop words from tokens\n",
    "        stop_removed_tokens = []\n",
    "        if remove_stopwords:\n",
    "            for word in tokenized:\n",
    "                if word not in stop_words:\n",
    "                    stop_removed_tokens.append(word)\n",
    "        else:\n",
    "            stop_removed_tokens = tokenized\n",
    "        if stem_data:\n",
    "            stemmed = []\n",
    "            for token in stop_removed_tokens:\n",
    "                stemmed.append(stemmer.stem(token))\n",
    "            processed.append(stemmed)\n",
    "        else:\n",
    "            processed.append(stop_removed_tokens)\n",
    "    return processed"
   ]
  },
  {
   "cell_type": "code",
   "execution_count": 5,
   "metadata": {},
   "outputs": [],
   "source": [
    "# defining model evaluation graphs function\n",
    "\n",
    "def plot_graphs(history, string):\n",
    "    plt.plot(history.history[string])\n",
    "    plt.plot(history.history['val_'+string])\n",
    "    plt.xlabel(\"Epochs\")\n",
    "    plt.ylabel(string)\n",
    "    plt.legend([string, 'val_'+string])\n",
    "    plt.show()"
   ]
  },
  {
   "cell_type": "markdown",
   "metadata": {},
   "source": [
    "## Sentiment Analysis"
   ]
  },
  {
   "cell_type": "code",
   "execution_count": 6,
   "metadata": {},
   "outputs": [],
   "source": [
    "# sentiment analysis parameters\n",
    "\n",
    "vocab_size_sent = 5000\n",
    "embedding_dimension_sent = 10\n",
    "max_length_sent = 1000\n",
    "trunc_type_sent = 'post'\n",
    "padding_type_sent = 'post'\n",
    "oov_tok_sent = '<OOV>'"
   ]
  },
  {
   "cell_type": "code",
   "execution_count": 7,
   "metadata": {},
   "outputs": [],
   "source": [
    "# preprocessing texts\n",
    "\n",
    "uci_combined['processed_no_stem'] = preprocess(uci_combined['text'], stem_data = False, remove_stopwords = False)"
   ]
  },
  {
   "cell_type": "code",
   "execution_count": 8,
   "metadata": {},
   "outputs": [],
   "source": [
    "# creating X, y variables and splitting to train/test sets\n",
    "\n",
    "sent_texts = uci_combined['processed_no_stem']\n",
    "sent_labels = uci_combined['is_positive']"
   ]
  },
  {
   "cell_type": "code",
   "execution_count": 9,
   "metadata": {},
   "outputs": [],
   "source": [
    "X_train_sent, X_test_sent, y_train_sent, y_test_sent = train_test_split(sent_texts, sent_labels, test_size = 0.25, stratify = sent_labels)"
   ]
  },
  {
   "cell_type": "code",
   "execution_count": 10,
   "metadata": {},
   "outputs": [],
   "source": [
    "# converting target variables to numpy arrays\n",
    "\n",
    "y_train_sent = np.array(y_train_sent)\n",
    "y_test_sent = np.array(y_test_sent)"
   ]
  },
  {
   "cell_type": "code",
   "execution_count": 11,
   "metadata": {},
   "outputs": [
    {
     "name": "stdout",
     "output_type": "stream",
     "text": [
      "Total documents: 2748\n",
      "Train Documents: 2061\n",
      "Test Documents: 2061\n",
      "Train Labels: 687\n",
      "Test Labels: 687\n"
     ]
    }
   ],
   "source": [
    "# Checking splits\n",
    "\n",
    "print(f\"Total documents: {len(sent_texts)}\")\n",
    "print(f\"Train Documents: {len(X_train_sent)}\")\n",
    "print(f\"Test Documents: {len(y_train_sent)}\")\n",
    "print(f\"Train Labels: {len(X_test_sent)}\")\n",
    "print(f\"Test Labels: {len(y_test_sent)}\")"
   ]
  },
  {
   "cell_type": "code",
   "execution_count": 12,
   "metadata": {},
   "outputs": [
    {
     "data": {
      "text/plain": [
       "{'<OOV>': 1,\n",
       " 'the': 2,\n",
       " 'and': 3,\n",
       " 'i': 4,\n",
       " 'a': 5,\n",
       " 'it': 6,\n",
       " 'is': 7,\n",
       " 'to': 8,\n",
       " 'this': 9,\n",
       " 'of': 10}"
      ]
     },
     "execution_count": 12,
     "metadata": {},
     "output_type": "execute_result"
    }
   ],
   "source": [
    "# creating a fitting a tokenizer on training set and checking frequent items\n",
    "\n",
    "tokenizer_sent = Tokenizer(num_words = vocab_size_sent, oov_token = oov_tok_sent)\n",
    "tokenizer_sent.fit_on_texts(X_train_sent)\n",
    "word_index = tokenizer_sent.word_index\n",
    "dict(list(word_index.items())[0:10])"
   ]
  },
  {
   "cell_type": "code",
   "execution_count": 13,
   "metadata": {},
   "outputs": [],
   "source": [
    "# converting text data to sequence data\n",
    "\n",
    "train_sequences_sent = tokenizer_sent.texts_to_sequences(X_train_sent)"
   ]
  },
  {
   "cell_type": "code",
   "execution_count": 14,
   "metadata": {},
   "outputs": [],
   "source": [
    "# padding sentences\n",
    "\n",
    "train_padded_sent = pad_sequences(train_sequences_sent, maxlen=max_length_sent, padding=padding_type_sent, truncating=trunc_type_sent)"
   ]
  },
  {
   "cell_type": "code",
   "execution_count": 15,
   "metadata": {},
   "outputs": [
    {
     "name": "stdout",
     "output_type": "stream",
     "text": [
      "6\n",
      "1000\n",
      "9\n",
      "1000\n",
      "10\n",
      "1000\n"
     ]
    }
   ],
   "source": [
    "# Checking for consistent column lengths\n",
    "\n",
    "print(len(train_sequences_sent[0]))\n",
    "print(len(train_padded_sent[0]))\n",
    "\n",
    "print(len(train_sequences_sent[1]))\n",
    "print(len(train_padded_sent[1]))\n",
    "\n",
    "print(len(train_sequences_sent[10]))\n",
    "print(len(train_padded_sent[10]))"
   ]
  },
  {
   "cell_type": "code",
   "execution_count": 16,
   "metadata": {},
   "outputs": [],
   "source": [
    "# serializing/padding test data\n",
    "\n",
    "test_sequences_sent = tokenizer_sent.texts_to_sequences(X_test_sent)\n",
    "test_padded_sent = pad_sequences(test_sequences_sent, maxlen=max_length_sent, padding=padding_type_sent, truncating=trunc_type_sent)"
   ]
  },
  {
   "cell_type": "code",
   "execution_count": 17,
   "metadata": {},
   "outputs": [
    {
     "data": {
      "text/plain": [
       "(687, 1000)"
      ]
     },
     "execution_count": 17,
     "metadata": {},
     "output_type": "execute_result"
    }
   ],
   "source": [
    "test_padded_sent.shape"
   ]
  },
  {
   "cell_type": "code",
   "execution_count": 23,
   "metadata": {},
   "outputs": [],
   "source": [
    "# Building / compiling / fitting LSTM model\n",
    "\n",
    "\n",
    "model_sent = Sequential()\n",
    "\n",
    "model_sent.add(Embedding(vocab_size_sent, \n",
    "                         embedding_dimension_sent))\n",
    "\n",
    "model_sent.add(Dropout(0.7))\n",
    "\n",
    "model_sent.add(Bidirectional(LSTM(embedding_dimension_sent)))\n",
    "\n",
    "model_sent.add(Dropout(0.7))\n",
    "\n",
    "\n",
    "model_sent.add(Dense(1, activation = 'sigmoid'))"
   ]
  },
  {
   "cell_type": "code",
   "execution_count": 24,
   "metadata": {},
   "outputs": [],
   "source": [
    "model_sent.compile(loss='binary_crossentropy', \n",
    "                       optimizer = 'adam', \n",
    "                       metrics = ['accuracy'],\n",
    "                      )"
   ]
  },
  {
   "cell_type": "code",
   "execution_count": 25,
   "metadata": {},
   "outputs": [
    {
     "name": "stdout",
     "output_type": "stream",
     "text": [
      "<class 'numpy.ndarray'>\n",
      "<class 'numpy.ndarray'>\n"
     ]
    }
   ],
   "source": [
    "print(type(train_padded_sent))\n",
    "print(type(y_train_sent))"
   ]
  },
  {
   "cell_type": "code",
   "execution_count": 26,
   "metadata": {},
   "outputs": [],
   "source": [
    "callbacks_sent = [History()]"
   ]
  },
  {
   "cell_type": "code",
   "execution_count": 27,
   "metadata": {},
   "outputs": [
    {
     "name": "stdout",
     "output_type": "stream",
     "text": [
      "Train on 2061 samples, validate on 687 samples\n",
      "Epoch 1/8\n",
      "2061/2061 [==============================] - 35s 17ms/sample - loss: 0.6926 - accuracy: 0.4988 - val_loss: 0.6913 - val_accuracy: 0.5255\n",
      "Epoch 2/8\n",
      "2061/2061 [==============================] - 33s 16ms/sample - loss: 0.6891 - accuracy: 0.5279 - val_loss: 0.6876 - val_accuracy: 0.5153\n",
      "Epoch 3/8\n",
      "2061/2061 [==============================] - 33s 16ms/sample - loss: 0.6799 - accuracy: 0.6084 - val_loss: 0.6694 - val_accuracy: 0.6827\n",
      "Epoch 4/8\n",
      "2061/2061 [==============================] - 31s 15ms/sample - loss: 0.6429 - accuracy: 0.6982 - val_loss: 0.6240 - val_accuracy: 0.7482\n",
      "Epoch 5/8\n",
      "2061/2061 [==============================] - 31s 15ms/sample - loss: 0.5858 - accuracy: 0.7734 - val_loss: 0.5825 - val_accuracy: 0.7482\n",
      "Epoch 6/8\n",
      "2061/2061 [==============================] - 31s 15ms/sample - loss: 0.5236 - accuracy: 0.7933 - val_loss: 0.5117 - val_accuracy: 0.7933\n",
      "Epoch 7/8\n",
      "2061/2061 [==============================] - 31s 15ms/sample - loss: 0.4573 - accuracy: 0.8195 - val_loss: 0.4824 - val_accuracy: 0.8079\n",
      "Epoch 8/8\n",
      "2061/2061 [==============================] - 31s 15ms/sample - loss: 0.4153 - accuracy: 0.8506 - val_loss: 0.4508 - val_accuracy: 0.8093\n"
     ]
    },
    {
     "data": {
      "text/plain": [
       "<tensorflow.python.keras.callbacks.History at 0x251686ba7c8>"
      ]
     },
     "execution_count": 27,
     "metadata": {},
     "output_type": "execute_result"
    }
   ],
   "source": [
    "model_sent.fit(train_padded_sent, y_train_sent,\n",
    "                                     epochs = 8,\n",
    "                                     callbacks = callbacks_sent,\n",
    "                                     validation_data = (test_padded_sent, y_test_sent))"
   ]
  },
  {
   "cell_type": "code",
   "execution_count": 28,
   "metadata": {},
   "outputs": [
    {
     "data": {
      "image/png": "[encoded data removed]",
      "text/plain": [
       "<Figure size 432x288 with 1 Axes>"
      ]
     },
     "metadata": {
      "needs_background": "light"
     },
     "output_type": "display_data"
    },
    {
     "data": {
      "image/png": "[encoded data removed]",
      "text/plain": [
       "<Figure size 432x288 with 1 Axes>"
      ]
     },
     "metadata": {
      "needs_background": "light"
     },
     "output_type": "display_data"
    }
   ],
   "source": [
    "# visualizing accuracy and loss functions over training epochs\n",
    "\n",
    "plot_graphs(model_sent.history, \"accuracy\")\n",
    "plot_graphs(model_sent.history, \"loss\")"
   ]
  },
  {
   "cell_type": "code",
   "execution_count": 29,
   "metadata": {},
   "outputs": [],
   "source": [
    "# saving model and pickled tokenizer for predictions\n",
    "\n",
    "save_model(model_sent, '../data/train_data/sentiment/sent_model.h5')\n",
    "\n",
    "\n",
    "with open('../data/train_data/sentiment/tokenizer_sent.pickle', 'wb') as handle:\n",
    "    pickle.dump(tokenizer_sent, handle, protocol = pickle.HIGHEST_PROTOCOL)"
   ]
  },
  {
   "cell_type": "markdown",
   "metadata": {},
   "source": [
    "## Subjectivity Analysis"
   ]
  },
  {
   "cell_type": "code",
   "execution_count": 66,
   "metadata": {},
   "outputs": [],
   "source": [
    "# setting subjectivity parameters\n",
    "\n",
    "vocab_size_subj_obj = 5000\n",
    "embedding_dimension_subj_obj = 8\n",
    "max_length_subj_obj = 200\n",
    "trunc_type_subj_obj = 'post'\n",
    "padding_type_subj_obj = 'post'\n",
    "oov_tok_subj_obj = '<OOV>'"
   ]
  },
  {
   "cell_type": "code",
   "execution_count": 31,
   "metadata": {},
   "outputs": [],
   "source": [
    "# processing text data for modeling\n",
    "\n",
    "subj_obj['processed_stem'] = preprocess(subj_obj['text'], stem_data = True, remove_stopwords = False)"
   ]
  },
  {
   "cell_type": "code",
   "execution_count": 32,
   "metadata": {},
   "outputs": [],
   "source": [
    "subj_obj['processed_no_stem'] = preprocess(subj_obj['text'], stem_data = False, remove_stopwords = False)"
   ]
  },
  {
   "cell_type": "code",
   "execution_count": 33,
   "metadata": {},
   "outputs": [
    {
     "data": {
      "text/html": [
       "<div>\n",
       "<style scoped>\n",
       "    .dataframe tbody tr th:only-of-type {\n",
       "        vertical-align: middle;\n",
       "    }\n",
       "\n",
       "    .dataframe tbody tr th {\n",
       "        vertical-align: top;\n",
       "    }\n",
       "\n",
       "    .dataframe thead th {\n",
       "        text-align: right;\n",
       "    }\n",
       "</style>\n",
       "<table border=\"1\" class=\"dataframe\">\n",
       "  <thead>\n",
       "    <tr style=\"text-align: right;\">\n",
       "      <th></th>\n",
       "      <th>text</th>\n",
       "      <th>is_subjective</th>\n",
       "      <th>processed_stem</th>\n",
       "      <th>processed_no_stem</th>\n",
       "    </tr>\n",
       "  </thead>\n",
       "  <tbody>\n",
       "    <tr>\n",
       "      <th>0</th>\n",
       "      <td>smart and alert , thirteen conversations about...</td>\n",
       "      <td>1</td>\n",
       "      <td>[smart, and, alert, thirteen, convers, about, ...</td>\n",
       "      <td>[smart, and, alert, thirteen, conversations, a...</td>\n",
       "    </tr>\n",
       "    <tr>\n",
       "      <th>1</th>\n",
       "      <td>color , musical bounce and warm seas lapping o...</td>\n",
       "      <td>1</td>\n",
       "      <td>[color, music, bounc, and, warm, sea, lap, on,...</td>\n",
       "      <td>[color, musical, bounce, and, warm, seas, lapp...</td>\n",
       "    </tr>\n",
       "  </tbody>\n",
       "</table>\n",
       "</div>"
      ],
      "text/plain": [
       "                                                text  is_subjective  \\\n",
       "0  smart and alert , thirteen conversations about...              1   \n",
       "1  color , musical bounce and warm seas lapping o...              1   \n",
       "\n",
       "                                      processed_stem  \\\n",
       "0  [smart, and, alert, thirteen, convers, about, ...   \n",
       "1  [color, music, bounc, and, warm, sea, lap, on,...   \n",
       "\n",
       "                                   processed_no_stem  \n",
       "0  [smart, and, alert, thirteen, conversations, a...  \n",
       "1  [color, musical, bounce, and, warm, seas, lapp...  "
      ]
     },
     "execution_count": 33,
     "metadata": {},
     "output_type": "execute_result"
    }
   ],
   "source": [
    "subj_obj.head(2)"
   ]
  },
  {
   "cell_type": "code",
   "execution_count": 34,
   "metadata": {},
   "outputs": [],
   "source": [
    "# Splitting into feature and target sets and splitting into training and testing\n",
    "\n",
    "subj_obj_texts = subj_obj['processed_no_stem']\n",
    "subj_obj_labels = subj_obj['is_subjective']"
   ]
  },
  {
   "cell_type": "code",
   "execution_count": 35,
   "metadata": {},
   "outputs": [],
   "source": [
    "X_train_subj_obj, X_test_subj_obj, y_train_subj_obj, y_test_subj_obj = train_test_split(subj_obj_texts, subj_obj_labels, test_size = 0.25, stratify = subj_obj_labels)"
   ]
  },
  {
   "cell_type": "code",
   "execution_count": 36,
   "metadata": {},
   "outputs": [],
   "source": [
    "# converting labels to numpy arrays\n",
    "\n",
    "y_train_subj_obj = np.array(y_train_subj_obj)\n",
    "y_test_subj_obj = np.array(y_test_subj_obj)"
   ]
  },
  {
   "cell_type": "code",
   "execution_count": 37,
   "metadata": {},
   "outputs": [
    {
     "name": "stdout",
     "output_type": "stream",
     "text": [
      "Total documents: 10000\n",
      "Train Documents: 7500\n",
      "Test Documents: 7500\n",
      "Train Labels: 2500\n",
      "Test Labels: 2500\n"
     ]
    }
   ],
   "source": [
    "# checking splits\n",
    "\n",
    "print(f\"Total documents: {len(subj_obj_texts)}\")\n",
    "print(f\"Train Documents: {len(X_train_subj_obj)}\")\n",
    "print(f\"Test Documents: {len(y_train_subj_obj)}\")\n",
    "print(f\"Train Labels: {len(X_test_subj_obj)}\")\n",
    "print(f\"Test Labels: {len(y_test_subj_obj)}\")"
   ]
  },
  {
   "cell_type": "code",
   "execution_count": 38,
   "metadata": {},
   "outputs": [
    {
     "data": {
      "text/plain": [
       "{'<OOV>': 1,\n",
       " 'the': 2,\n",
       " 'a': 3,\n",
       " 'and': 4,\n",
       " 'of': 5,\n",
       " 'to': 6,\n",
       " 'in': 7,\n",
       " 'is': 8,\n",
       " 's': 9,\n",
       " 'it': 10}"
      ]
     },
     "execution_count": 38,
     "metadata": {},
     "output_type": "execute_result"
    }
   ],
   "source": [
    "# Fitting tokenizer and checking frequent words\n",
    "\n",
    "tokenizer_subj_obj = Tokenizer(num_words = vocab_size_subj_obj, oov_token = oov_tok_subj_obj)\n",
    "tokenizer_subj_obj.fit_on_texts(X_train_subj_obj)\n",
    "word_index = tokenizer_subj_obj.word_index\n",
    "dict(list(word_index.items())[0:10])"
   ]
  },
  {
   "cell_type": "code",
   "execution_count": 39,
   "metadata": {},
   "outputs": [
    {
     "name": "stdout",
     "output_type": "stream",
     "text": [
      "[4893, 8, 4894, 1, 15, 11, 17, 19, 3288, 12, 663, 540, 411, 5, 2, 120, 9, 541]\n"
     ]
    }
   ],
   "source": [
    "# serializing and padding train sequences\n",
    "\n",
    "train_sequences_subj_obj = tokenizer_subj_obj.texts_to_sequences(X_train_subj_obj)\n",
    "print(train_sequences_subj_obj[10])"
   ]
  },
  {
   "cell_type": "code",
   "execution_count": 40,
   "metadata": {},
   "outputs": [],
   "source": [
    "train_padded_subj_obj = pad_sequences(train_sequences_subj_obj, maxlen=max_length_subj_obj, padding=padding_type_subj_obj, truncating=trunc_type_subj_obj)"
   ]
  },
  {
   "cell_type": "code",
   "execution_count": 41,
   "metadata": {},
   "outputs": [
    {
     "name": "stdout",
     "output_type": "stream",
     "text": [
      "19\n",
      "200\n",
      "30\n",
      "200\n",
      "18\n",
      "200\n"
     ]
    }
   ],
   "source": [
    "# checking padding\n",
    "\n",
    "print(len(train_sequences_subj_obj[0]))\n",
    "print(len(train_padded_subj_obj[0]))\n",
    "\n",
    "print(len(train_sequences_subj_obj[1]))\n",
    "print(len(train_padded_subj_obj[1]))\n",
    "\n",
    "print(len(train_sequences_subj_obj[10]))\n",
    "print(len(train_padded_subj_obj[10]))"
   ]
  },
  {
   "cell_type": "code",
   "execution_count": 42,
   "metadata": {},
   "outputs": [],
   "source": [
    "# checking article length distribution\n",
    "\n",
    "art_lengths_subj_obj = []\n",
    "for sequence in train_sequences_subj_obj:\n",
    "    art_lengths_subj_obj.append(len(sequence))"
   ]
  },
  {
   "cell_type": "code",
   "execution_count": 43,
   "metadata": {},
   "outputs": [
    {
     "data": {
      "image/png": "[encoded data removed]",
      "text/plain": [
       "<Figure size 432x288 with 1 Axes>"
      ]
     },
     "metadata": {
      "needs_background": "light"
     },
     "output_type": "display_data"
    }
   ],
   "source": [
    "plt.hist(art_lengths_subj_obj);"
   ]
  },
  {
   "cell_type": "code",
   "execution_count": 44,
   "metadata": {},
   "outputs": [
    {
     "name": "stdout",
     "output_type": "stream",
     "text": [
      "2500\n",
      "(2500, 200)\n"
     ]
    }
   ],
   "source": [
    "# serializing and padding test sequences\n",
    "\n",
    "test_sequences_subj_obj = tokenizer_subj_obj.texts_to_sequences(X_test_subj_obj)\n",
    "test_padded_subj_obj = pad_sequences(test_sequences_subj_obj, maxlen=max_length_subj_obj, padding=padding_type_subj_obj, truncating=trunc_type_subj_obj)\n",
    "\n",
    "print(len(test_sequences_subj_obj))\n",
    "print(test_padded_subj_obj.shape)"
   ]
  },
  {
   "cell_type": "code",
   "execution_count": 67,
   "metadata": {},
   "outputs": [],
   "source": [
    "# Building / compiling / fitting LSTM model\n",
    "\n",
    "model_subj_obj = Sequential()\n",
    "\n",
    "model_subj_obj.add(Embedding(vocab_size_subj_obj, embedding_dimension_subj_obj))\n",
    "\n",
    "model_subj_obj.add(Bidirectional(LSTM(embedding_dimension_subj_obj)))\n",
    "\n",
    "model_subj_obj.add(Dropout(0.7))\n",
    "\n",
    "model_subj_obj.add(Dense(embedding_dimension_subj_obj, activation = 'relu'))\n",
    "\n",
    "model_subj_obj.add(Dropout(0.7))\n",
    "\n",
    "model_subj_obj.add(Dense(embedding_dimension_subj_obj, activation = 'relu'))\n",
    "\n",
    "model_subj_obj.add(Dense(1, activation = 'sigmoid'))"
   ]
  },
  {
   "cell_type": "code",
   "execution_count": 68,
   "metadata": {},
   "outputs": [
    {
     "name": "stdout",
     "output_type": "stream",
     "text": [
      "Model: \"sequential_5\"\n",
      "_________________________________________________________________\n",
      "Layer (type)                 Output Shape              Param #   \n",
      "=================================================================\n",
      "embedding_5 (Embedding)      (None, None, 8)           40000     \n",
      "_________________________________________________________________\n",
      "bidirectional_5 (Bidirection (None, 16)                1088      \n",
      "_________________________________________________________________\n",
      "dropout_10 (Dropout)         (None, 16)                0         \n",
      "_________________________________________________________________\n",
      "dense_11 (Dense)             (None, 8)                 136       \n",
      "_________________________________________________________________\n",
      "dropout_11 (Dropout)         (None, 8)                 0         \n",
      "_________________________________________________________________\n",
      "dense_12 (Dense)             (None, 8)                 72        \n",
      "_________________________________________________________________\n",
      "dense_13 (Dense)             (None, 1)                 9         \n",
      "=================================================================\n",
      "Total params: 41,305\n",
      "Trainable params: 41,305\n",
      "Non-trainable params: 0\n",
      "_________________________________________________________________\n"
     ]
    }
   ],
   "source": [
    "model_subj_obj.summary()"
   ]
  },
  {
   "cell_type": "code",
   "execution_count": 69,
   "metadata": {},
   "outputs": [],
   "source": [
    "model_subj_obj.compile(loss='binary_crossentropy', \n",
    "                       optimizer = 'adam', \n",
    "                       metrics = ['accuracy'],\n",
    "                      )"
   ]
  },
  {
   "cell_type": "code",
   "execution_count": 70,
   "metadata": {},
   "outputs": [
    {
     "data": {
      "text/plain": [
       "numpy.ndarray"
      ]
     },
     "execution_count": 70,
     "metadata": {},
     "output_type": "execute_result"
    }
   ],
   "source": [
    "type(train_padded_subj_obj)"
   ]
  },
  {
   "cell_type": "code",
   "execution_count": 71,
   "metadata": {},
   "outputs": [
    {
     "data": {
      "text/plain": [
       "numpy.ndarray"
      ]
     },
     "execution_count": 71,
     "metadata": {},
     "output_type": "execute_result"
    }
   ],
   "source": [
    "type(y_train_subj_obj)"
   ]
  },
  {
   "cell_type": "code",
   "execution_count": 72,
   "metadata": {},
   "outputs": [],
   "source": [
    "callbacks_subj_obj = [History()]"
   ]
  },
  {
   "cell_type": "code",
   "execution_count": 73,
   "metadata": {},
   "outputs": [
    {
     "name": "stdout",
     "output_type": "stream",
     "text": [
      "Train on 7500 samples, validate on 2500 samples\n",
      "Epoch 1/6\n",
      "7500/7500 [==============================] - 25s 3ms/sample - loss: 0.6926 - accuracy: 0.4945 - val_loss: 0.6858 - val_accuracy: 0.5480\n",
      "Epoch 2/6\n",
      "7500/7500 [==============================] - 21s 3ms/sample - loss: 0.5851 - accuracy: 0.6877 - val_loss: 0.3934 - val_accuracy: 0.8744\n",
      "Epoch 3/6\n",
      "7500/7500 [==============================] - 21s 3ms/sample - loss: 0.4579 - accuracy: 0.7903 - val_loss: 0.2792 - val_accuracy: 0.9052\n",
      "Epoch 4/6\n",
      "7500/7500 [==============================] - 21s 3ms/sample - loss: 0.3919 - accuracy: 0.8221 - val_loss: 0.2544 - val_accuracy: 0.9100\n",
      "Epoch 5/6\n",
      "7500/7500 [==============================] - 21s 3ms/sample - loss: 0.3393 - accuracy: 0.8564 - val_loss: 0.2623 - val_accuracy: 0.9020\n",
      "Epoch 6/6\n",
      "7500/7500 [==============================] - 21s 3ms/sample - loss: 0.2966 - accuracy: 0.8749 - val_loss: 0.2769 - val_accuracy: 0.8860\n"
     ]
    },
    {
     "data": {
      "text/plain": [
       "<tensorflow.python.keras.callbacks.History at 0x25106624508>"
      ]
     },
     "execution_count": 73,
     "metadata": {},
     "output_type": "execute_result"
    }
   ],
   "source": [
    "model_subj_obj.fit(train_padded_subj_obj, y_train_subj_obj,\n",
    "                                     epochs = 6,\n",
    "                                     callbacks = callbacks_subj_obj,\n",
    "                                     validation_data = (test_padded_subj_obj, y_test_subj_obj))"
   ]
  },
  {
   "cell_type": "code",
   "execution_count": 74,
   "metadata": {},
   "outputs": [
    {
     "data": {
      "image/png": "[encoded data removed]",
      "text/plain": [
       "<Figure size 432x288 with 1 Axes>"
      ]
     },
     "metadata": {
      "needs_background": "light"
     },
     "output_type": "display_data"
    },
    {
     "data": {
      "image/png": "[encoded data removed]",
      "text/plain": [
       "<Figure size 432x288 with 1 Axes>"
      ]
     },
     "metadata": {
      "needs_background": "light"
     },
     "output_type": "display_data"
    }
   ],
   "source": [
    "# viewing accuracy and loss over epochs\n",
    "\n",
    "plot_graphs(model_subj_obj.history, \"accuracy\")\n",
    "plot_graphs(model_subj_obj.history, \"loss\")"
   ]
  },
  {
   "cell_type": "code",
   "execution_count": 75,
   "metadata": {
    "scrolled": true
   },
   "outputs": [],
   "source": [
    "# saving model and pickled tokenizer\n",
    "\n",
    "save_model(model_subj_obj, '../data/train_data/subjectivity/subj_obj_model.h5')\n",
    "\n",
    "with open('../data/train_data/subjectivity/tokenizer_subj_obj.pickle', 'wb') as handle:\n",
    "    pickle.dump(tokenizer_subj_obj, handle, protocol = pickle.HIGHEST_PROTOCOL)"
   ]
  },
  {
   "cell_type": "code",
   "execution_count": null,
   "metadata": {},
   "outputs": [],
   "source": []
  }
 ],
 "metadata": {
  "kernelspec": {
   "display_name": "Python 3",
   "language": "python",
   "name": "python3"
  },
  "language_info": {
   "codemirror_mode": {
    "name": "ipython",
    "version": 3
   },
   "file_extension": ".py",
   "mimetype": "text/x-python",
   "name": "python",
   "nbconvert_exporter": "python",
   "pygments_lexer": "ipython3",
   "version": "3.7.6"
  }
 },
 "nbformat": 4,
 "nbformat_minor": 4
}
